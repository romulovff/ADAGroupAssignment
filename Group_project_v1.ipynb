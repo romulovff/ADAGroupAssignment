{
 "cells": [
  {
   "cell_type": "markdown",
   "id": "ebeaa91c",
   "metadata": {
    "id": "ebeaa91c"
   },
   "source": [
    "# Group project\n",
    "\n",
    "By delivering this notebook, we confirm that the group project was developed by the following students.\n",
    "\n",
    "## Student 1: Rômulo Feijão Filho, 50530\n",
    "## Student 2: Maria Ferreira, 50465\n"
   ]
  },
  {
   "cell_type": "markdown",
   "id": "d9e90bac",
   "metadata": {
    "id": "d9e90bac"
   },
   "source": [
    "The group project will focus on analysing data on flights in the US.\n",
    "\n",
    "Unless otherwise specified, the problems can be solved using either Spark or Pandas.\n",
    "\n",
    "Some useful links:\n",
    "\n",
    "* [Spark web site](https://spark.apache.org/)\n",
    "\n",
    "* [Spark MLlib main page](https://spark.apache.org/mllib/)\n",
    "* [Spark MLlib guide](https://spark.apache.org/docs/latest/ml-guide.html)\n",
    "\n",
    "* [Spark GraphX main page](https://spark.apache.org/graphx/)\n",
    "* [Spark GraphFrames main page](https://graphframes.github.io/graphframes/docs/_site/index.html)\n",
    "* [Spark GraphFrames User Guide](https://graphframes.github.io/graphframes/docs/_site/user-guide.html)\n"
   ]
  },
  {
   "cell_type": "markdown",
   "id": "b6f57801",
   "metadata": {
    "id": "b6f57801"
   },
   "source": [
    "## Colab setup\n",
    "\n",
    "The following cell will install Spark, if the notebook is running on COLAB. Before running this cell, you should access the following link [https://drive.google.com/drive/folders/1hylIwkzcOWjYMQW2wWSVRmAN9mEyGToP?usp=sharing](https://drive.google.com/drive/folders/1hylIwkzcOWjYMQW2wWSVRmAN9mEyGToP?usp=sharing)"
   ]
  },
  {
   "cell_type": "code",
   "execution_count": 1,
   "id": "5fae91c0",
   "metadata": {
    "id": "5fae91c0"
   },
   "outputs": [],
   "source": [
    "#Run this cell to install Spark on Colab\n",
    "import os\n",
    "\n",
    "if 'COLAB_GPU' in os.environ : \n",
    "    !apt-get install openjdk-8-jdk-headless\n",
    "    !pip install pyspark==3.1.2\n",
    "    !wget https://repos.spark-packages.org/graphframes/graphframes/0.8.2-spark3.1-s_2.12/graphframes-0.8.2-spark3.1-s_2.12.jar -y\n",
    "    os.environ['PYSPARK_SUBMIT_ARGS'] = '--jars graphframes-0.8.2-spark3.1-s_2.12.jar pyspark-shell'\n",
    "\n",
    "    from google.colab import drive\n",
    "    drive.mount('/content/drive')\n",
    "\n"
   ]
  },
  {
   "cell_type": "markdown",
   "id": "9b22fa1b",
   "metadata": {
    "id": "9b22fa1b"
   },
   "source": [
    "## Local setup\n",
    "\n",
    "For running the group project locally, you should create a directory named **data** in the directory where you have this notebook. Then, you should download to the **data** directory the files in the following link: [https://drive.google.com/drive/folders/1hylIwkzcOWjYMQW2wWSVRmAN9mEyGToP?usp=sharing](https://drive.google.com/drive/folders/1hylIwkzcOWjYMQW2wWSVRmAN9mEyGToP?usp=sharing)."
   ]
  },
  {
   "cell_type": "markdown",
   "id": "83396505",
   "metadata": {
    "id": "83396505"
   },
   "source": [
    "## Initialization"
   ]
  },
  {
   "cell_type": "markdown",
   "id": "d3aac495",
   "metadata": {
    "id": "d3aac495"
   },
   "source": [
    "Import libraries. "
   ]
  },
  {
   "cell_type": "code",
   "execution_count": 2,
   "id": "69621cc6",
   "metadata": {
    "id": "69621cc6"
   },
   "outputs": [
    {
     "name": "stdout",
     "output_type": "stream",
     "text": [
      "3.1.2\n"
     ]
    }
   ],
   "source": [
    "import os\n",
    "import time\n",
    "import pandas as pd\n",
    "import numpy as np\n",
    "import matplotlib.pyplot as plt\n",
    "import pyspark\n",
    "from pyspark.sql import SparkSession\n",
    "from pyspark.sql.types import *\n",
    "from pyspark.sql.functions import *\n",
    "from pyspark.ml.linalg import Vectors\n",
    "\n",
    "plt.style.use('seaborn')\n",
    "\n",
    "print(pyspark.__version__)\n"
   ]
  },
  {
   "cell_type": "markdown",
   "id": "ee5839cf",
   "metadata": {
    "id": "ee5839cf"
   },
   "source": [
    "Let's start spark session and set *log* level to ERROR."
   ]
  },
  {
   "cell_type": "code",
   "execution_count": 3,
   "id": "6ad40951",
   "metadata": {
    "id": "6ad40951"
   },
   "outputs": [],
   "source": [
    "\n",
    "spark = SparkSession.builder \\\n",
    "    .master(\"local\") \\\n",
    "    .appName(\"Group project\") \\\n",
    "    .config(\"spark.sql.execution.arrow.pyspark.enabled\", \"true\") \\\n",
    "    .getOrCreate()\n",
    "\n",
    "if 'COLAB_GPU' in os.environ : \n",
    "    spark.sparkContext.addPyFile('graphframes-0.8.2-spark3.1-s_2.12.jar')\n",
    "elif 'DATABRICKS_RUNTIME_VERSION' in os.environ : \n",
    "    # TO BE COMPLETE\n",
    "    ;\n",
    "else:\n",
    "    spark.sparkContext.addPyFile('graphframes-0.8.2-spark3.0-s_2.12.jar')\n",
    "\n",
    "\n",
    "spark.sparkContext.setLogLevel(\"ERROR\")"
   ]
  },
  {
   "cell_type": "markdown",
   "id": "e23071d0",
   "metadata": {
    "id": "e23071d0"
   },
   "source": [
    "## Data selection\n",
    "\n",
    "This cell controls the dataset you will be using. Note that this cell will control the path to the files, dependening on the platform you are using to run the code.\n"
   ]
  },
  {
   "cell_type": "code",
   "execution_count": 4,
   "id": "c836342f",
   "metadata": {
    "id": "c836342f"
   },
   "outputs": [],
   "source": [
    "# Comment the following \n",
    "flightsF = \"sample.csv\"\n",
    "# flightsF = \"complete.csv\"\n",
    "#flightsF = \"data-2009.csv\"\n",
    "#flightsF = \"data-2010.csv\"\n",
    "#flightsF = \"data-2011.csv\"\n",
    "#flightsF = \"data-2012.csv\"\n",
    "#flightsF = \"data-2013.csv\"\n",
    "#flightsF = \"data-2014.csv\"\n",
    "#flightsF = \"data-2015.csv\"\n",
    "#flightsF = \"data-2016.csv\"\n",
    "#flightsF = \"data-2017.csv\"\n",
    "#flightsF = \"data-2018.csv\"\n",
    "\n",
    "if 'COLAB_GPU' in os.environ : \n",
    "    FLIGHTS_FILENAME = \"/content/drive/MyDrive/group2122/\" + flightsF\n",
    "    AIRPORTS_FILENAME = \"/content/drive/MyDrive/group2122/airports.csv\"\n",
    "    HOLIDAYS_FILENAME = \"/content/drive/MyDrive/group2122/holidays.csv\"\n",
    "elif 'DATABRICKS_RUNTIME_VERSION' in os.environ : \n",
    "    # TO BE COMPLETE\n",
    "    ;\n",
    "else:\n",
    "    FLIGHTS_FILENAME = os.path.join( \"data\", flightsF)\n",
    "    AIRPORTS_FILENAME = os.path.join( \"data\", \"airports.csv\")\n",
    "    HOLIDAYS_FILENAME = os.path.join( \"data\", \"holidays.csv\")\n"
   ]
  },
  {
   "cell_type": "markdown",
   "id": "198a44fe",
   "metadata": {
    "id": "198a44fe"
   },
   "source": [
    "## Datasets\n",
    "\n",
    "This section describes the datasets you have available for your analysis."
   ]
  },
  {
   "cell_type": "markdown",
   "id": "514ef634",
   "metadata": {
    "id": "514ef634"
   },
   "source": [
    "### Flights\n",
    "\n",
    "The flights dataset, generated from data available at [https://www.transtats.bts.gov/DataIndex.asp](https://www.transtats.bts.gov/DataIndex.asp), includes the following columns:\n",
    "\n",
    "* FL_DATE: date of the flight (format: yyyy-mm-dd)\n",
    "* OP_CARRIER: carrier code\n",
    "* OP_CARRIER_FL_NUM: carrier flight number\n",
    "* ORIGIN: origin airport (using IATA codes)\n",
    "* DEST: destination airport (using IATA codes)\n",
    "* CRS_DEP_TIME: scheduled local departure time (format for all times: hh:mm)\n",
    "* DEP_TIME: actual departure time\n",
    "* DEP_DELAY: departure delay, in minutes\n",
    "* TAXI_OUT: taxi out time\n",
    "* WHEELS_OFF: actual local wheel off time\n",
    "* WHEELS_ON: actual local wheel on time\n",
    "* TAXI_IN: actual local taxi in time\n",
    "* CRS_ARR_TIME: scheduled local arrival time\n",
    "* ARR_TIME: actual arrival time\n",
    "* ARR_DELAY: arrival delay, in minutes\n",
    "* CANCELLED: 1 if the flight has been cancelled; 0 otherwise\n",
    "* CANCELLATION_CODE: code of cancelation (A = carrier, B = weather, C = NAS, D = security)\n",
    "* DIVERTED: 1 if the flight has been diverted; 0 otherwise\n",
    "* CRS_ELAPSED_TIME: estimated elapsed time\n",
    "* ACTUAL_ELAPSED_TIME: actual elapsed time\n",
    "* AIR_TIME: flight time, in minutes\n",
    "* DISTANCE: flight distance, in miles\n",
    "* CARRIER_DELAY: delay due to carrier, in minutes\n",
    "* WEATHER_DELAY: delay due to weather, in minutes\n",
    "* NAS_DELAY: delay due to NAS, in minutes\n",
    "* SECURITY_DELAY: delay due to security, in minutes\n",
    "* LATE_AIRCRAFT_DELAY: delay due to late aircraft, in minutes\n",
    "\n",
    "The following data files are available:\n",
    "\n",
    "* complete.csv : complete data set, including data from 2009 to 2018\n",
    "* sample.csv : sample data set, including data from July 1 to July 15, from years 2009 to 2018\n",
    "* data-20xx.csv : data set for a particular year\n",
    "\n",
    "Load the dataset into flightsDF dataframe and register flights under view name **flights**. We are setting the schema programmatically, because inferring the schema in a very large dataframe is slow.\n"
   ]
  },
  {
   "cell_type": "code",
   "execution_count": 5,
   "id": "a4ac960a",
   "metadata": {
    "id": "a4ac960a"
   },
   "outputs": [
    {
     "name": "stdout",
     "output_type": "stream",
     "text": [
      "+----------+----------+-----------------+------+----+------------+--------+---------+--------+----------+---------+-------+------------+--------+---------+---------+-----------------+--------+----------------+-------------------+--------+--------+-------------+-------------+---------+--------------+-------------------+\n",
      "|   FL_DATE|OP_CARRIER|OP_CARRIER_FL_NUM|ORIGIN|DEST|CRS_DEP_TIME|DEP_TIME|DEP_DELAY|TAXI_OUT|WHEELS_OFF|WHEELS_ON|TAXI_IN|CRS_ARR_TIME|ARR_TIME|ARR_DELAY|CANCELLED|CANCELLATION_CODE|DIVERTED|CRS_ELAPSED_TIME|ACTUAL_ELAPSED_TIME|AIR_TIME|DISTANCE|CARRIER_DELAY|WEATHER_DELAY|NAS_DELAY|SECURITY_DELAY|LATE_AIRCRAFT_DELAY|\n",
      "+----------+----------+-----------------+------+----+------------+--------+---------+--------+----------+---------+-------+------------+--------+---------+---------+-----------------+--------+----------------+-------------------+--------+--------+-------------+-------------+---------+--------------+-------------------+\n",
      "|2009-07-01|        XE|             5660|   ORD| ROC|       07:17|   07:11|       -6|      12|     07:23|    09:39|      4|       09:56|   09:43|      -13|        0|             null|       0|              99|                 92|      76|     528|         null|         null|     null|          null|               null|\n",
      "|2009-07-01|        XE|             5661|   ROC| ORD|       09:48|   09:43|       -5|       7|     09:50|    10:11|     22|       10:38|   10:33|       -5|        0|             null|       0|             110|                110|      81|     528|         null|         null|     null|          null|               null|\n",
      "|2009-07-01|        XE|             5662|   ORD| SDF|       10:26|   10:22|       -4|       9|     10:31|    12:20|      7|       12:50|   12:27|      -23|        0|             null|       0|              84|                 65|      49|     286|         null|         null|     null|          null|               null|\n",
      "+----------+----------+-----------------+------+----+------------+--------+---------+--------+----------+---------+-------+------------+--------+---------+---------+-----------------+--------+----------------+-------------------+--------+--------+-------------+-------------+---------+--------------+-------------------+\n",
      "only showing top 3 rows\n",
      "\n"
     ]
    }
   ],
   "source": [
    "flightsSchema = StructType([\n",
    "    StructField(\"FL_DATE\", DateType()),\n",
    "    StructField(\"OP_CARRIER\", StringType()),\n",
    "    StructField(\"OP_CARRIER_FL_NUM\", IntegerType()),\n",
    "    StructField(\"ORIGIN\", StringType()),\n",
    "    StructField(\"DEST\", StringType()),\n",
    "    StructField(\"CRS_DEP_TIME\", StringType()),\n",
    "    StructField(\"DEP_TIME\", StringType()),\n",
    "    StructField(\"DEP_DELAY\", IntegerType()),\n",
    "    StructField(\"TAXI_OUT\", IntegerType()),\n",
    "    StructField(\"WHEELS_OFF\", StringType()),\n",
    "    StructField(\"WHEELS_ON\", StringType()),\n",
    "    StructField(\"TAXI_IN\", IntegerType()),\n",
    "    StructField(\"CRS_ARR_TIME\", StringType()),\n",
    "    StructField(\"ARR_TIME\", StringType()),\n",
    "    StructField(\"ARR_DELAY\", IntegerType()),\n",
    "    StructField(\"CANCELLED\", IntegerType()),\n",
    "    StructField(\"CANCELLATION_CODE\", StringType()),\n",
    "    StructField(\"DIVERTED\", IntegerType()),\n",
    "    StructField(\"CRS_ELAPSED_TIME\", IntegerType()),\n",
    "    StructField(\"ACTUAL_ELAPSED_TIME\", IntegerType()),\n",
    "    StructField(\"AIR_TIME\", IntegerType()),\n",
    "    StructField(\"DISTANCE\", IntegerType()),\n",
    "    StructField(\"CARRIER_DELAY\", IntegerType()),\n",
    "    StructField(\"WEATHER_DELAY\", IntegerType()),\n",
    "    StructField(\"NAS_DELAY\", IntegerType()),\n",
    "    StructField(\"SECURITY_DELAY\", IntegerType()),\n",
    "    StructField(\"LATE_AIRCRAFT_DELAY\", IntegerType())\n",
    "    ])\n",
    "\n",
    "flightsDF = spark.read.option(\"header\", True).schema(flightsSchema).csv(FLIGHTS_FILENAME)\n",
    "\n",
    "flightsDF.createOrReplaceTempView(\"flights\")\n",
    "\n",
    "flightsDF.show(3)"
   ]
  },
  {
   "cell_type": "markdown",
   "id": "3aaea788",
   "metadata": {
    "id": "3aaea788"
   },
   "source": [
    "### Airports\n",
    "\n",
    "The airports dataset includes the information about US airports - soure: [https://datahub.io/core/airport-codes](https://datahub.io/core/airport-codes).\n",
    "\n",
    "This dataset includes the following columns:\n",
    "\n",
    "* ident: identifier\n",
    "* type: type of airport\n",
    "* name: name of airport\n",
    "* elevation_ft: altitude, in feets\n",
    "* continent: code of continent\n",
    "* iso_country: coide of country\n",
    "* iso_regio: code of region\n",
    "* municipality: city\n",
    "* gps_code: code of GPS\n",
    "* iata_code: IATA code of aurport\n",
    "* local_code: local code of airport\n",
    "* coordinates: coordinates of airport\n",
    "\n",
    "Load the dataset into airportDF dataframe and register airports under view name **airports**.\n"
   ]
  },
  {
   "cell_type": "code",
   "execution_count": 6,
   "id": "d558994b",
   "metadata": {
    "id": "d558994b"
   },
   "outputs": [
    {
     "name": "stdout",
     "output_type": "stream",
     "text": [
      "+-----+-------------+--------------------+------------+---------+-----------+----------+------------+--------+---------+----------+--------------------+\n",
      "|ident|         type|                name|elevation_ft|continent|iso_country|iso_region|municipality|gps_code|iata_code|local_code|         coordinates|\n",
      "+-----+-------------+--------------------+------------+---------+-----------+----------+------------+--------+---------+----------+--------------------+\n",
      "|  00A|     heliport|   Total Rf Heliport|          11|       NA|         US|     US-PA|    Bensalem|     00A|     null|       00A|-74.9336013793945...|\n",
      "| 00AA|small_airport|Aero B Ranch Airport|        3435|       NA|         US|     US-KS|       Leoti|    00AA|     null|      00AA|-101.473911, 38.7...|\n",
      "| 00AK|small_airport|        Lowell Field|         450|       NA|         US|     US-AK|Anchor Point|    00AK|     null|      00AK|-151.695999146, 5...|\n",
      "+-----+-------------+--------------------+------------+---------+-----------+----------+------------+--------+---------+----------+--------------------+\n",
      "only showing top 3 rows\n",
      "\n"
     ]
    }
   ],
   "source": [
    "airportsDF = spark.read.option(\"header\", True).option(\"inferSchema\",True).csv(AIRPORTS_FILENAME)\n",
    "\n",
    "airportsDF.createOrReplaceTempView(\"airports\")\n",
    "\n",
    "airportsDF.show(3)\n"
   ]
  },
  {
   "cell_type": "markdown",
   "id": "122d4c09",
   "metadata": {
    "id": "122d4c09"
   },
   "source": [
    "Exemplify how you can plot information about airports."
   ]
  },
  {
   "cell_type": "code",
   "execution_count": 7,
   "id": "892455de",
   "metadata": {
    "id": "892455de"
   },
   "outputs": [
    {
     "name": "stdout",
     "output_type": "stream",
     "text": [
      "Plotting airport location - using altitude for different color\n"
     ]
    },
    {
     "name": "stderr",
     "output_type": "stream",
     "text": [
      "/opt/anaconda3/lib/python3.7/site-packages/pyspark/sql/pandas/conversion.py:87: UserWarning: toPandas attempted Arrow optimization because 'spark.sql.execution.arrow.pyspark.enabled' is set to true; however, failed by the reason below:\n",
      "  PyArrow >= 1.0.0 must be installed; however, it was not found.\n",
      "Attempting non-optimization as 'spark.sql.execution.arrow.pyspark.fallback.enabled' is set to true.\n",
      "  warnings.warn(msg)\n"
     ]
    },
    {
     "data": {
      "text/plain": [
       "<matplotlib.axes._subplots.AxesSubplot at 0x122c2d950>"
      ]
     },
     "execution_count": 7,
     "metadata": {},
     "output_type": "execute_result"
    },
    {
     "data": {
      "image/png": "[encoded data removed]",
      "text/plain": [
       "<Figure size 576x396 with 2 Axes>"
      ]
     },
     "metadata": {},
     "output_type": "display_data"
    }
   ],
   "source": [
    "airportLocDF = spark.sql(\"\"\"SELECT FLOAT(TRIM(SUBSTRING_INDEX(coordinates,',',1))) AS lon,\n",
    "                                    FLOAT(TRIM(SUBSTRING_INDEX(coordinates,',',-1))) AS lat,\n",
    "                                    elevation_ft AS val\n",
    "                        FROM airports \n",
    "                        WHERE type = 'large_airport' AND continent = 'NA' AND iso_country = 'US'\"\"\")\n",
    "\n",
    "print('Plotting airport location - using altitude for different color')\n",
    "airportLocPD = airportLocDF.toPandas()\n",
    "airportLocPD.plot(x=\"lon\",y=\"lat\",c=\"val\",s=10,cmap=\"rainbow\",kind=\"scatter\")\n"
   ]
  },
  {
   "cell_type": "markdown",
   "id": "e9c5d9b9",
   "metadata": {
    "id": "e9c5d9b9"
   },
   "source": [
    "### Public holidays\n",
    "\n",
    "Dates of public holidays in the US.\n",
    "\n",
    "This dataset includes the following columns:\n",
    "\n",
    "* Date: date (format: yyyy-mm-dd)\n",
    "* Holiday: name of the holiday\n",
    "* WeekDay: day of week\n",
    "* Month: month (1-12)\n",
    "* Day: day (1-31)\n",
    "* Year: year (2002-2021)\n",
    "\n",
    "Load the dataset into holidaysDF dataframe and register holidays under view name **holidays**.\n"
   ]
  },
  {
   "cell_type": "code",
   "execution_count": 8,
   "id": "d9f5f8df",
   "metadata": {
    "id": "d9f5f8df"
   },
   "outputs": [
    {
     "name": "stdout",
     "output_type": "stream",
     "text": [
      "+----------+-----------+-------+-----+---+----+\n",
      "|      Date|    Holiday|WeekDay|Month|Day|Year|\n",
      "+----------+-----------+-------+-----+---+----+\n",
      "|2004-07-04|4th of July| Sunday|    7|  4|2004|\n",
      "|2005-07-04|4th of July| Monday|    7|  4|2005|\n",
      "|2006-07-04|4th of July|Tuesday|    7|  4|2006|\n",
      "+----------+-----------+-------+-----+---+----+\n",
      "only showing top 3 rows\n",
      "\n"
     ]
    }
   ],
   "source": [
    "holidaysDF = spark.read.option(\"header\", True).option(\"inferSchema\",True).csv(HOLIDAYS_FILENAME)\n",
    "\n",
    "holidaysDF.createOrReplaceTempView(\"holidays\")\n",
    "\n",
    "holidaysDF.show(3)\n"
   ]
  },
  {
   "cell_type": "markdown",
   "id": "47dcbef8",
   "metadata": {
    "id": "47dcbef8"
   },
   "source": [
    "## Problem 0 [1 point]\n",
    "\n",
    "We start by executing some simple statistics to compare the execution time between Spark and Pandas.\n"
   ]
  },
  {
   "cell_type": "markdown",
   "id": "65575f27",
   "metadata": {
    "id": "65575f27"
   },
   "source": [
    "### Code: Spark"
   ]
  },
  {
   "cell_type": "code",
   "execution_count": 10,
   "id": "782b53bb",
   "metadata": {
    "id": "782b53bb"
   },
   "outputs": [
    {
     "name": "stdout",
     "output_type": "stream",
     "text": [
      "+----------+-----------+\n",
      "|OP_CARRIER|num_flights|\n",
      "+----------+-----------+\n",
      "|        UA|    4826658|\n",
      "|        NK|     588574|\n",
      "|        AA|    6682161|\n",
      "|        NW|     292400|\n",
      "|        EV|    4726445|\n",
      "|        B6|    2483969|\n",
      "|        DL|    7841880|\n",
      "|        OO|    6263052|\n",
      "|        F9|     903218|\n",
      "|        YV|    1063558|\n",
      "|        US|    2657286|\n",
      "|        MQ|    3216260|\n",
      "|        OH|     577060|\n",
      "|        HA|     744991|\n",
      "|        XE|    1105864|\n",
      "|        G4|      96221|\n",
      "|        YX|     316090|\n",
      "|        AS|    1660539|\n",
      "|        FL|    1218389|\n",
      "|        CO|     740498|\n",
      "+----------+-----------+\n",
      "only showing top 20 rows\n",
      "\n",
      "Runtime = 104.44895696640015\n"
     ]
    }
   ],
   "source": [
    "start_time = time.time()\n",
    "\n",
    "flightsSchema = StructType([\n",
    "    StructField(\"FL_DATE\", DateType()),\n",
    "    StructField(\"OP_CARRIER\", StringType()),\n",
    "    StructField(\"OP_CARRIER_FL_NUM\", IntegerType()),\n",
    "    StructField(\"ORIGIN\", StringType()),\n",
    "    StructField(\"DEST\", StringType()),\n",
    "    StructField(\"CRS_DEP_TIME\", StringType()),\n",
    "    StructField(\"DEP_TIME\", StringType()),\n",
    "    StructField(\"DEP_DELAY\", IntegerType()),\n",
    "    StructField(\"TAXI_OUT\", IntegerType()),\n",
    "    StructField(\"WHEELS_OFF\", StringType()),\n",
    "    StructField(\"WHEELS_ON\", StringType()),\n",
    "    StructField(\"TAXI_IN\", IntegerType()),\n",
    "    StructField(\"CRS_ARR_TIME\", StringType()),\n",
    "    StructField(\"ARR_TIME\", StringType()),\n",
    "    StructField(\"ARR_DELAY\", IntegerType()),\n",
    "    StructField(\"CANCELLED\", IntegerType()),\n",
    "    StructField(\"CANCELLATION_CODE\", StringType()),\n",
    "    StructField(\"DIVERTED\", IntegerType()),\n",
    "    StructField(\"CRS_ELAPSED_TIME\", IntegerType()),\n",
    "    StructField(\"ACTUAL_ELAPSED_TIME\", IntegerType()),\n",
    "    StructField(\"AIR_TIME\", IntegerType()),\n",
    "    StructField(\"DISTANCE\", IntegerType()),\n",
    "    StructField(\"CARRIER_DELAY\", IntegerType()),\n",
    "    StructField(\"WEATHER_DELAY\", IntegerType()),\n",
    "    StructField(\"NAS_DELAY\", IntegerType()),\n",
    "    StructField(\"SECURITY_DELAY\", IntegerType()),\n",
    "    StructField(\"LATE_AIRCRAFT_DELAY\", IntegerType())\n",
    "    ])\n",
    "\n",
    "flightsDF = spark.read.option(\"header\", True).schema(flightsSchema).csv(FLIGHTS_FILENAME)\n",
    "\n",
    "flightsDF.createOrReplaceTempView(\"flights_new\")\n",
    "\n",
    "result = spark.sql(\"SELECT OP_CARRIER, count(*) AS num_flights FROM flights_new GROUP BY OP_CARRIER\")\n",
    "result.show()\n",
    "\n",
    "end_time = time.time()\n",
    "print( \"Runtime = \" + str(end_time - start_time))\n",
    "\n"
   ]
  },
  {
   "cell_type": "markdown",
   "id": "393ed265",
   "metadata": {
    "id": "393ed265"
   },
   "source": [
    "* Execution time for sample.csv: <b>6.0630</b>\n",
    "* Execution time for complete.csv: <b>105.2344</b>\n",
    "\n",
    "Using GPU @ Colab (go to Execution time menu and change the type of execution time to include GPU):\n",
    "\n",
    "* Execution time for sample.csv: <b>10.7719</b>\n",
    "* Execution time for complete.csv: <b>199.7952</b>\n"
   ]
  },
  {
   "cell_type": "markdown",
   "id": "13e0b6a7",
   "metadata": {
    "id": "13e0b6a7"
   },
   "source": [
    "### Code: Pandas library"
   ]
  },
  {
   "cell_type": "code",
   "execution_count": 22,
   "id": "bd002811",
   "metadata": {
    "id": "bd002811"
   },
   "outputs": [
    {
     "name": "stdout",
     "output_type": "stream",
     "text": [
      "             FL_DATE\n",
      "OP_CARRIER          \n",
      "9E           1066251\n",
      "AA           6682161\n",
      "AS           1660539\n",
      "B6           2483969\n",
      "CO            740498\n",
      "DL           7841880\n",
      "EV           4726445\n",
      "F9            903218\n",
      "FL           1218389\n",
      "G4             96221\n",
      "HA            744991\n",
      "MQ           3216260\n",
      "NK            588574\n",
      "NW            292400\n",
      "OH            577060\n",
      "OO           6263052\n",
      "UA           4826658\n",
      "US           2657286\n",
      "VX            389060\n",
      "WN          12096540\n",
      "XE           1105864\n",
      "YV           1063558\n",
      "YX            316090\n",
      "Runtime = 1502.589280128479\n"
     ]
    }
   ],
   "source": [
    "import pandas as pd\n",
    "import time\n",
    "\n",
    "start_time = time.time()\n",
    "mySchema = {\"FL_DATE\": \"str\",\n",
    "            \"OP_CARRIER\": \"str\",\n",
    "            \"OP_CARRIER_FL_NUM\":\"Int64\",\n",
    "            \"ORIGIN\":\"str\",\n",
    "            \"DEST\":\"str\",\n",
    "            \"CRS_DEP_TIME\":\"str\",\n",
    "            \"DEP_TIME\":\"str\",\n",
    "            \"DEP_DELAY\":\"Int64\",\n",
    "            \"TAXI_OUT\":\"Int64\",\n",
    "            \"WHEELS_OFF\":\"str\",\n",
    "            \"WHEELS_ON\":\"str\",\n",
    "            \"TAXI_IN\":\"Int64\",\n",
    "            \"CRS_ARR_TIME\":\"str\",\n",
    "            \"ARR_TIME\":\"str\",\n",
    "            \"ARR_DELAY\":\"Int64\",\n",
    "            \"CANCELLED\":\"Int64\",\n",
    "            \"CANCELLATION_CODE\":\"str\",\n",
    "            \"DIVERTED\":\"Int64\",\n",
    "            \"CRS_ELAPSED_TIME\":\"Int64\",\n",
    "            \"ACTUAL_ELAPSED_TIME\":\"Int64\",\n",
    "            \"AIR_TIME\":\"Int64\",\n",
    "            \"DISTANCE\":\"Int64\",\n",
    "            \"CARRIER_DELAY\":\"Int64\",\n",
    "            \"WEATHER_DELAY\":\"Int64\",\n",
    "            \"NAS_DELAY\":\"Int64\",\n",
    "            \"SECURITY_DELAY\":\"Int64\",\n",
    "            \"LATE_AIRCRAFT_DELAY\":\"Int64\"\n",
    "           }\n",
    "\n",
    "dataframe = pd.read_csv(FLIGHTS_FILENAME,dtype=mySchema)\n",
    "result = dataframe[[\"FL_DATE\",\"OP_CARRIER\"]].groupby(\"OP_CARRIER\").count()\n",
    "print(result)\n",
    "\n",
    "end_time = time.time()\n",
    "\n",
    "print( \"Runtime = \" + str(end_time - start_time))\n"
   ]
  },
  {
   "cell_type": "markdown",
   "id": "5c51c285",
   "metadata": {
    "id": "5c51c285"
   },
   "source": [
    "* Execution time for sample.csv: <b>27.5704</b>\n",
    "* Execution time for complete.csv: <b>1502.5893</b>"
   ]
  },
  {
   "cell_type": "markdown",
   "id": "7bf0588a",
   "metadata": {
    "id": "7bf0588a"
   },
   "source": [
    "**Discuss the results you have obtained:**\n",
    "Using Spark to read dataframes and perform dataframe queries is significantly faster than Pandas as Pandas dataframes are not distributed whereas Spark dataframes are. This means that for large amounts of data, such as with the flights dataframes, one benefits from parallel processing using Spark which translates into faster processing of data. "
   ]
  },
  {
   "cell_type": "markdown",
   "id": "37d86190",
   "metadata": {
    "id": "37d86190"
   },
   "source": [
    "## Problem 1 [4 points]\n",
    "\n",
    "In this first problem, you should compute a set of statistics on the data.\n"
   ]
  },
  {
   "cell_type": "markdown",
   "id": "af46f81e",
   "metadata": {
    "id": "af46f81e"
   },
   "source": [
    "### Top-20 airports with more flights (include the name of the airport)"
   ]
  },
  {
   "cell_type": "code",
   "execution_count": 24,
   "id": "4150f6af",
   "metadata": {
    "id": "4150f6af"
   },
   "outputs": [
    {
     "name": "stdout",
     "output_type": "stream",
     "text": [
      "Top 20 airports with more flights departing\n",
      "+----+--------------------+---------------+\n",
      "|CODE|                NAME|N_OF_DEPARTURES|\n",
      "+----+--------------------+---------------+\n",
      "| ATL|Hartsfield Jackso...|         147589|\n",
      "| ORD|Chicago O'Hare In...|         115049|\n",
      "| DFW|Dallas Fort Worth...|          95641|\n",
      "| DEN|Denver Internatio...|          89928|\n",
      "| LAX|Los Angeles Inter...|          83685|\n",
      "| PHX|Phoenix Sky Harbo...|          63831|\n",
      "| IAH|George Bush Inter...|          63593|\n",
      "| SFO|San Francisco Int...|          63054|\n",
      "| LAS|McCarran Internat...|          55333|\n",
      "| MSP|Minneapolis-St Pa...|          51510|\n",
      "| DTW|Detroit Metropoli...|          50049|\n",
      "| CLT|Charlotte Douglas...|          49649|\n",
      "| SEA|Seattle Tacoma In...|          49358|\n",
      "| MCO|Orlando Internati...|          47001|\n",
      "| BOS|General Edward La...|          45297|\n",
      "| SLC|Salt Lake City In...|          44270|\n",
      "| EWR|Newark Liberty In...|          44131|\n",
      "| JFK|John F Kennedy In...|          41925|\n",
      "| LGA|  La Guardia Airport|          39882|\n",
      "| BWI|Baltimore/Washing...|          39311|\n",
      "+----+--------------------+---------------+\n",
      "only showing top 20 rows\n",
      "\n",
      "Top 20 airports with more flights arriving\n",
      "+----+--------------------+-------------+\n",
      "|CODE|                NAME|N_OF_ARRIVALS|\n",
      "+----+--------------------+-------------+\n",
      "| ATL|Hartsfield Jackso...|       147555|\n",
      "| ORD|Chicago O'Hare In...|       115041|\n",
      "| DFW|Dallas Fort Worth...|        95613|\n",
      "| DEN|Denver Internatio...|        89927|\n",
      "| LAX|Los Angeles Inter...|        83684|\n",
      "| PHX|Phoenix Sky Harbo...|        63830|\n",
      "| IAH|George Bush Inter...|        63613|\n",
      "| SFO|San Francisco Int...|        63041|\n",
      "| LAS|McCarran Internat...|        55340|\n",
      "| MSP|Minneapolis-St Pa...|        51461|\n",
      "| DTW|Detroit Metropoli...|        50035|\n",
      "| CLT|Charlotte Douglas...|        49602|\n",
      "| SEA|Seattle Tacoma In...|        49366|\n",
      "| MCO|Orlando Internati...|        46994|\n",
      "| BOS|General Edward La...|        45308|\n",
      "| SLC|Salt Lake City In...|        44260|\n",
      "| EWR|Newark Liberty In...|        44199|\n",
      "| JFK|John F Kennedy In...|        41923|\n",
      "| LGA|  La Guardia Airport|        39878|\n",
      "| BWI|Baltimore/Washing...|        39310|\n",
      "+----+--------------------+-------------+\n",
      "only showing top 20 rows\n",
      "\n"
     ]
    }
   ],
   "source": [
    "dfTop20AirportsDepartures = spark.sql(\"SELECT f.ORIGIN AS CODE, FIRST(a.name) AS NAME, COUNT(f.ORIGIN) AS N_OF_DEPARTURES FROM flights f INNER JOIN airports a ON f.ORIGIN = a.iata_code GROUP BY CODE ORDER BY COUNT(f.ORIGIN) DESC\")\n",
    "print(\"Top 20 airports with more flights departing\")\n",
    "dfTop20AirportsDepartures.show(20)\n",
    "\n",
    "dfTop20AirportsArriving = spark.sql(\"SELECT f.DEST AS CODE, FIRST(a.name) AS NAME, COUNT(f.DEST) AS N_OF_ARRIVALS FROM flights f INNER JOIN airports a ON f.DEST = a.iata_code GROUP BY CODE ORDER BY COUNT(f.DEST) DESC\")\n",
    "print(\"Top 20 airports with more flights arriving\")\n",
    "dfTop20AirportsArriving.show(20)\n"
   ]
  },
  {
   "cell_type": "markdown",
   "id": "b31863ee",
   "metadata": {
    "id": "b31863ee"
   },
   "source": [
    "### Top-20 days with more flights"
   ]
  },
  {
   "cell_type": "code",
   "execution_count": 25,
   "id": "17444e94",
   "metadata": {
    "id": "17444e94"
   },
   "outputs": [
    {
     "name": "stdout",
     "output_type": "stream",
     "text": [
      "Top 20 days with more flights\n",
      "+----------+------------+\n",
      "|      DATE|N_OF_FLIGHTS|\n",
      "+----------+------------+\n",
      "|2018-07-13|       22022|\n",
      "|2018-07-12|       21966|\n",
      "|2018-07-09|       21956|\n",
      "|2018-07-11|       21736|\n",
      "|2018-07-10|       21628|\n",
      "|2018-07-15|       21262|\n",
      "|2018-07-08|       21251|\n",
      "|2018-07-06|       20393|\n",
      "|2018-07-01|       19985|\n",
      "|2018-07-02|       19727|\n",
      "|2018-07-05|       19649|\n",
      "|2009-07-10|       19425|\n",
      "|2009-07-02|       19399|\n",
      "|2013-07-12|       19391|\n",
      "|2009-07-09|       19377|\n",
      "|2009-07-06|       19362|\n",
      "|2013-07-08|       19361|\n",
      "|2009-07-13|       19356|\n",
      "|2013-07-15|       19354|\n",
      "|2013-07-11|       19349|\n",
      "+----------+------------+\n",
      "only showing top 20 rows\n",
      "\n"
     ]
    }
   ],
   "source": [
    "dfTop20DaysWithMoreFlights = spark.sql(\"SELECT FL_DATE AS DATE, COUNT(*) as N_OF_FLIGHTS from flights GROUP BY FL_DATE ORDER BY COUNT(*) DESC\")\n",
    "print(\"Top 20 days with more flights\")\n",
    "dfTop20DaysWithMoreFlights.show(20)"
   ]
  },
  {
   "cell_type": "markdown",
   "id": "66b96cde",
   "metadata": {
    "id": "66b96cde"
   },
   "source": [
    "### Periods with more flights: morning (00:00-11:59, midday 12:00-17:59, evening 18:00-23:59)"
   ]
  },
  {
   "cell_type": "code",
   "execution_count": 26,
   "id": "66e9f1b8",
   "metadata": {
    "id": "66e9f1b8"
   },
   "outputs": [
    {
     "name": "stdout",
     "output_type": "stream",
     "text": [
      "Periods (morning, midday and evening) and their number of scheduled flights\n",
      "+-------+------------+\n",
      "|Morning|N_OF_FLIGHTS|\n",
      "+-------+------------+\n",
      "|Morning|      981231|\n",
      "+-------+------------+\n",
      "\n",
      "+------+------------+\n",
      "|Midday|N_OF_FLIGHTS|\n",
      "+------+------------+\n",
      "|Midday|      865053|\n",
      "+------+------------+\n",
      "\n",
      "+-------+------------+\n",
      "|Evening|N_OF_FLIGHTS|\n",
      "+-------+------------+\n",
      "|Evening|      517320|\n",
      "+-------+------------+\n",
      "\n",
      "Periods (morning, midday and evening) and their number of flights that actually departed\n",
      "+-------+------------+\n",
      "|Morning|N_OF_FLIGHTS|\n",
      "+-------+------------+\n",
      "|Morning|      969080|\n",
      "+-------+------------+\n",
      "\n",
      "+------+------------+\n",
      "|Midday|N_OF_FLIGHTS|\n",
      "+------+------------+\n",
      "|Midday|      824862|\n",
      "+------+------------+\n",
      "\n",
      "+-------+------------+\n",
      "|Evening|N_OF_FLIGHTS|\n",
      "+-------+------------+\n",
      "|Evening|      539024|\n",
      "+-------+------------+\n",
      "\n"
     ]
    }
   ],
   "source": [
    "print(\"Periods (morning, midday and evening) and their number of scheduled flights\")\n",
    "\n",
    "dfMorningFlights = spark.sql(\"SELECT 'Morning', COUNT(*) as N_OF_FLIGHTS from flights WHERE CRS_DEP_TIME >= '00:00' AND CRS_DEP_TIME <= '11:59'\")\n",
    "dfMorningFlights.show()\n",
    "\n",
    "dfMiddayFlights = spark.sql(\"SELECT 'Midday', COUNT(*) as N_OF_FLIGHTS from flights WHERE CRS_DEP_TIME >= '12:00' AND CRS_DEP_TIME <= '17:59'\")\n",
    "dfMiddayFlights.show()\n",
    "\n",
    "dfEveningFlights = spark.sql(\"SELECT 'Evening', COUNT(*) as N_OF_FLIGHTS from flights WHERE CRS_DEP_TIME >= '18:00' AND CRS_DEP_TIME <= '23:59'\")\n",
    "dfEveningFlights.show()\n",
    "\n",
    "\n",
    "print(\"Periods (morning, midday and evening) and their number of flights that actually departed\")\n",
    "\n",
    "dfMorningFlights = spark.sql(\"SELECT 'Morning', COUNT(*) as N_OF_FLIGHTS from flights WHERE DEP_TIME >= '00:00' AND DEP_TIME <= '11:59'\")\n",
    "dfMorningFlights.show()\n",
    "\n",
    "dfMiddayFlights = spark.sql(\"SELECT 'Midday', COUNT(*) as N_OF_FLIGHTS from flights WHERE DEP_TIME >= '12:00' AND DEP_TIME <= '17:59'\")\n",
    "dfMiddayFlights.show()\n",
    "\n",
    "dfEveningFlights = spark.sql(\"SELECT 'Evening', COUNT(*) as N_OF_FLIGHTS from flights WHERE DEP_TIME >= '18:00' AND DEP_TIME <= '23:59'\")\n",
    "dfEveningFlights.show()\n"
   ]
  },
  {
   "cell_type": "markdown",
   "id": "f9807206",
   "metadata": {
    "id": "f9807206"
   },
   "source": [
    "### Top-20 airports with longer delays"
   ]
  },
  {
   "cell_type": "code",
   "execution_count": 27,
   "id": "0c1ce622",
   "metadata": {
    "id": "0c1ce622"
   },
   "outputs": [
    {
     "name": "stdout",
     "output_type": "stream",
     "text": [
      "Top 20 airports with longer average delay for departures\n",
      "+----+--------------------+-----------+-------------------+\n",
      "|CODE|                NAME|TOTAL_DELAY|AVG_DEPARTURE_DELAY|\n",
      "+----+--------------------+-----------+-------------------+\n",
      "| HGR|Hagerstown Region...|        561| 62.333333333333336|\n",
      "| IFP|Laughlin Bullhead...|        612|               40.8|\n",
      "| OGD|Ogden Hinckley Ai...|        153|              38.25|\n",
      "| UST|Northeast Florida...|       1173|  35.54545454545455|\n",
      "| CEC|Jack Mc Namara Fi...|       6911|   34.7286432160804|\n",
      "| HYA|Barnstable Munici...|       2497|  33.74324324324324|\n",
      "| BLV|Scott AFB/Midamer...|       2280| 33.529411764705884|\n",
      "| LCK|Rickenbacker Inte...|       2078| 31.484848484848484|\n",
      "| OGS|Ogdensburg Intern...|        118|               29.5|\n",
      "| PSM|Portsmouth Intern...|        469|            29.3125|\n",
      "| SLN|Salina Municipal ...|       1079|  29.16216216216216|\n",
      "| OTH|Southwest Oregon ...|       7834| 26.377104377104377|\n",
      "| MVY|Martha's Vineyard...|       6039| 25.058091286307054|\n",
      "| CKB|North Central Wes...|        895|  24.18918918918919|\n",
      "| TTN|Trenton Mercer Ai...|      14846|  22.63109756097561|\n",
      "| GCK|Garden City Regio...|       4068|               22.6|\n",
      "| SCK|Stockton Metropol...|        716|             22.375|\n",
      "| USA|Concord-Padgett R...|       1124|  22.03921568627451|\n",
      "| PIB|Hattiesburg Laure...|       2400|  21.62162162162162|\n",
      "| PIE|St Petersburg Cle...|       7632| 20.682926829268293|\n",
      "+----+--------------------+-----------+-------------------+\n",
      "only showing top 20 rows\n",
      "\n",
      "Top 20 airports with longer average delay for arrivals\n",
      "+----+--------------------+-----------+------------------+\n",
      "|CODE|                NAME|TOTAL_DELAY| AVG_ARRIVAL_DELAY|\n",
      "+----+--------------------+-----------+------------------+\n",
      "| PIE|Memphis Internati...|      11835|32.247956403269754|\n",
      "| OGS|St Petersburg Cle...|        120|              30.0|\n",
      "| UST|Trenton Mercer Ai...|        936|27.529411764705884|\n",
      "| SFB|Cleveland Hopkins...|      12794| 27.16348195329087|\n",
      "| TTN|Raleigh Durham In...|      16977|26.038343558282207|\n",
      "| SHD|Greenbrier Valley...|       1025|            25.625|\n",
      "| PGD|Indianapolis Inte...|       5607|25.256756756756758|\n",
      "| PIB|           Key Field|       2667| 24.46788990825688|\n",
      "| MEI|Hartsfield Jackso...|       5812|23.063492063492063|\n",
      "| CEC|California Redwoo...|       4411|22.973958333333332|\n",
      "| PSE|John F Kennedy In...|       8203| 22.17027027027027|\n",
      "| IFP|Phoenix Sky Harbo...|        323|21.533333333333335|\n",
      "| BLV|Myrtle Beach Inte...|       1405| 20.66176470588235|\n",
      "| ILG|Chicago Midway In...|       1410|20.434782608695652|\n",
      "| DRT|George Bush Inter...|        546| 20.22222222222222|\n",
      "| EGE|Dallas Fort Worth...|       5536|19.356643356643357|\n",
      "| CKB|Myrtle Beach Inte...|        712|19.243243243243242|\n",
      "| AZA|Missoula Internat...|       4124|18.576576576576578|\n",
      "| EWR|Washington Dulles...|     773860| 18.28375664500886|\n",
      "| MOD|San Francisco Int...|       3908| 17.84474885844749|\n",
      "+----+--------------------+-----------+------------------+\n",
      "only showing top 20 rows\n",
      "\n"
     ]
    }
   ],
   "source": [
    "dfTop20AirportsLongerDepartureDelays = spark.sql(\"SELECT f.ORIGIN AS CODE, FIRST(a.name) AS NAME, SUM(f.DEP_DELAY) AS TOTAL_DELAY, AVG(f.DEP_DELAY) AS AVG_DEPARTURE_DELAY FROM flights f INNER JOIN airports a ON f.ORIGIN = a.iata_code GROUP BY f.ORIGIN ORDER BY AVG(f.DEP_DELAY) DESC\")\n",
    "print(\"Top 20 airports with longer average delay for departures\")\n",
    "dfTop20AirportsLongerDepartureDelays.show(20)\n",
    "\n",
    "dfTop20AirportsLongerArrivalDelays = spark.sql(\"SELECT f.DEST AS CODE, FIRST(a.name) AS NAME, SUM(f.ARR_DELAY) AS TOTAL_DELAY, AVG(f.ARR_DELAY) AS AVG_ARRIVAL_DELAY FROM flights f INNER JOIN airports a ON f.ORIGIN = a.iata_code GROUP BY f.DEST ORDER BY AVG(f.ARR_DELAY) DESC\")\n",
    "print(\"Top 20 airports with longer average delay for arrivals\")\n",
    "dfTop20AirportsLongerArrivalDelays.show(20)\n"
   ]
  },
  {
   "cell_type": "markdown",
   "id": "f39a9e96",
   "metadata": {
    "id": "f39a9e96"
   },
   "source": [
    "### Top 10 carriers with longer delays"
   ]
  },
  {
   "cell_type": "code",
   "execution_count": 28,
   "id": "8859452d",
   "metadata": {
    "id": "8859452d"
   },
   "outputs": [
    {
     "name": "stdout",
     "output_type": "stream",
     "text": [
      "Top 10 carriers with longer average delay for departures\n",
      "+----------+------------+----------------------+--------------------+\n",
      "|OP_CARRIER|N_OF_FLIGHTS|TOTAL_DELAY_DEPARTURES|AVG_DELAY_DEPARTURES|\n",
      "+----------+------------+----------------------+--------------------+\n",
      "|        G4|        5123|                103978|  20.296310755416748|\n",
      "|        B6|       97885|               1609586|  16.443643050518464|\n",
      "|        UA|      192622|               3083528|  16.008181827620938|\n",
      "|        EV|      185522|               2945287|  15.875675122087946|\n",
      "|        F9|       36190|                571738|  15.798231555678365|\n",
      "|        VX|       15862|                236575|   14.91457571554659|\n",
      "|        NK|       25439|                355062|  13.957388262117222|\n",
      "|        WN|      465495|               5829462|  12.523146328102342|\n",
      "|        AA|      266003|               3326410|  12.505159716243801|\n",
      "|        FL|       43105|                521860|  12.106716158218305|\n",
      "+----------+------------+----------------------+--------------------+\n",
      "only showing top 10 rows\n",
      "\n",
      "\n",
      "\n",
      "Top 10 carriers with longer average delay for arrivals\n",
      "+----------+------------+--------------------+------------------+\n",
      "|OP_CARRIER|N_OF_FLIGHTS|TOTAL_DELAY_ARRIVALS|AVG_DELAY_ARRIVALS|\n",
      "+----------+------------+--------------------+------------------+\n",
      "|        G4|        5123|               95327| 18.60765176654304|\n",
      "|        F9|       36190|              519357| 14.35084277424703|\n",
      "|        EV|      185522|             2354454|12.690969265100636|\n",
      "|        B6|       97885|             1221390|12.477805588190224|\n",
      "|        VX|       15862|              174837| 11.02238053208927|\n",
      "|        NK|       25439|              265143|  10.4226974330752|\n",
      "|        FL|       43105|              433538|10.057719522097205|\n",
      "|        AA|      266003|             2363137| 8.883873490148607|\n",
      "|        UA|      192622|             1703314| 8.842780160106322|\n",
      "|        XE|       31772|              280739| 8.836050610600529|\n",
      "+----------+------------+--------------------+------------------+\n",
      "only showing top 10 rows\n",
      "\n"
     ]
    }
   ],
   "source": [
    "dfTop10CarriersWithLongerDelaysDepartures = spark.sql(\"SELECT OP_CARRIER, COUNT(*) AS N_OF_FLIGHTS, SUM(DEP_DELAY) AS TOTAL_DELAY_DEPARTURES, (SUM(DEP_DELAY)/COUNT(*)) AS AVG_DELAY_DEPARTURES FROM flights GROUP BY OP_CARRIER ORDER BY AVG_DELAY_DEPARTURES DESC\")\n",
    "print(\"Top 10 carriers with longer average delay for departures\")\n",
    "dfTop10CarriersWithLongerDelaysDepartures.show(10)\n",
    "\n",
    "dfTop10CarriersWithLongerDelaysArrivals = spark.sql(\"SELECT OP_CARRIER, COUNT(*) AS N_OF_FLIGHTS, SUM(ARR_DELAY) AS TOTAL_DELAY_ARRIVALS, (SUM(ARR_DELAY)/COUNT(*)) AS AVG_DELAY_ARRIVALS FROM flights GROUP BY OP_CARRIER ORDER BY AVG_DELAY_ARRIVALS DESC\")\n",
    "print(\"\\n\\nTop 10 carriers with longer average delay for arrivals\")\n",
    "dfTop10CarriersWithLongerDelaysArrivals.show(10)\n"
   ]
  },
  {
   "cell_type": "markdown",
   "id": "a4d1a5b6",
   "metadata": {
    "id": "a4d1a5b6"
   },
   "source": [
    "### Longer delays by period: morning (00:00-11:59, midday 12:00-17:59, evening 18:00-23:59)\n"
   ]
  },
  {
   "cell_type": "code",
   "execution_count": 29,
   "id": "1669be19",
   "metadata": {
    "id": "1669be19"
   },
   "outputs": [
    {
     "name": "stdout",
     "output_type": "stream",
     "text": [
      "Average delays by period for departure\n",
      "+-------+------------+-------------------+\n",
      "|Morning|N_OF_FLIGHTS|AVG_DEPARTURE_DELAY|\n",
      "+-------+------------+-------------------+\n",
      "|Morning|      981231|   4.77306363129579|\n",
      "+-------+------------+-------------------+\n",
      "\n",
      "+------+------------+-------------------+\n",
      "|Midday|N_OF_FLIGHTS|AVG_DEPARTURE_DELAY|\n",
      "+------+------------+-------------------+\n",
      "|Midday|      865053| 14.239094020828782|\n",
      "+------+------------+-------------------+\n",
      "\n",
      "+-------+------------+-------------------+\n",
      "|Evening|N_OF_FLIGHTS|AVG_DEPARTURE_DELAY|\n",
      "+-------+------------+-------------------+\n",
      "|Evening|      517320| 19.822545039820614|\n",
      "+-------+------------+-------------------+\n",
      "\n",
      "\n",
      "\n",
      "Average delays by period for arrivals, according to departure time\n",
      "+-------+------------+-----------------+\n",
      "|Morning|N_OF_FLIGHTS|AVG_ARRIVAL_DELAY|\n",
      "+-------+------------+-----------------+\n",
      "|Morning|      981231|0.596434478731308|\n",
      "+-------+------------+-----------------+\n",
      "\n",
      "+------+------------+------------------+\n",
      "|Midday|N_OF_FLIGHTS| AVG_ARRIVAL_DELAY|\n",
      "+------+------------+------------------+\n",
      "|Midday|      865053|10.595639804728728|\n",
      "+------+------------+------------------+\n",
      "\n",
      "+-------+------------+------------------+\n",
      "|Evening|N_OF_FLIGHTS| AVG_ARRIVAL_DELAY|\n",
      "+-------+------------+------------------+\n",
      "|Evening|      517320|15.104386066651202|\n",
      "+-------+------------+------------------+\n",
      "\n"
     ]
    }
   ],
   "source": [
    "print(\"Average delays by period for departure\")\n",
    "\n",
    "dfMorningFlightsDelays = spark.sql(\"SELECT 'Morning', COUNT(*) as N_OF_FLIGHTS, (SUM(DEP_DELAY)/COUNT(*)) AS AVG_DEPARTURE_DELAY from flights WHERE CRS_DEP_TIME >= '00:00' AND CRS_DEP_TIME <= '11:59'\")\n",
    "dfMorningFlightsDelays.show()\n",
    "\n",
    "dfMiddayFlightsDelays = spark.sql(\"SELECT 'Midday', COUNT(*) as N_OF_FLIGHTS, (SUM(DEP_DELAY)/COUNT(*)) AS AVG_DEPARTURE_DELAY from flights WHERE CRS_DEP_TIME >= '12:00' AND CRS_DEP_TIME <= '17:59'\")\n",
    "dfMiddayFlightsDelays.show()\n",
    "\n",
    "dfEveningFlightsDelays = spark.sql(\"SELECT 'Evening', COUNT(*) as N_OF_FLIGHTS, (SUM(DEP_DELAY)/COUNT(*)) AS AVG_DEPARTURE_DELAY from flights WHERE CRS_DEP_TIME >= '18:00' AND CRS_DEP_TIME <= '23:59'\")\n",
    "dfEveningFlightsDelays.show()\n",
    "\n",
    "print(\"\\n\\nAverage delays by period for arrivals, according to departure time\")\n",
    "\n",
    "dfMorningFlightsDelays = spark.sql(\"SELECT 'Morning', COUNT(*) as N_OF_FLIGHTS, (SUM(ARR_DELAY)/COUNT(*)) AS AVG_ARRIVAL_DELAY from flights WHERE CRS_DEP_TIME >= '00:00' AND CRS_DEP_TIME <= '11:59'\")\n",
    "dfMorningFlightsDelays.show()\n",
    "\n",
    "dfMiddayFlightsDelays = spark.sql(\"SELECT 'Midday', COUNT(*) as N_OF_FLIGHTS, (SUM(ARR_DELAY)/COUNT(*)) AS AVG_ARRIVAL_DELAY from flights WHERE CRS_DEP_TIME >= '12:00' AND CRS_DEP_TIME <= '17:59'\")\n",
    "dfMiddayFlightsDelays.show()\n",
    "\n",
    "dfEveningFlightsDelays = spark.sql(\"SELECT 'Evening', COUNT(*) as N_OF_FLIGHTS, (SUM(ARR_DELAY)/COUNT(*)) AS AVG_ARRIVAL_DELAY from flights WHERE CRS_DEP_TIME >= '18:00' AND CRS_DEP_TIME <= '23:59'\")\n",
    "dfEveningFlightsDelays.show()\n"
   ]
  },
  {
   "cell_type": "markdown",
   "id": "cbb581e1",
   "metadata": {
    "id": "cbb581e1"
   },
   "source": [
    "## Problem 2 [4 points]\n",
    "\n",
    "Assume you want to create a web site to help travellers get information about flight delays. The web site would allow a user to find out information about delays for the flight she want to take. \n",
    "The information about delays should include at least 3 statistics - suggestion: the average delay in the same route of the same carrier in the last 7 days, 30 days, 365 days, similar but considering only flights in the same week day, similar but considering flights in the same week day, but excluding holidays, etc.\n",
    "\n",
    "To support this web site, it would be necessary to build one or more indices that would be used to answer the query of the user.\n",
    "\n",
    "Write the code to build these indices - for each index, print 5 lines."
   ]
  },
  {
   "cell_type": "code",
   "execution_count": 447,
   "id": "d1672a83",
   "metadata": {
    "id": "d1672a83"
   },
   "outputs": [],
   "source": [
    "groupedDelays = spark.sql(\"SELECT FL_DATE, FIRST(OP_CARRIER) AS OP_CARRIER, FIRST(ORIGIN) AS ORIGIN, FIRST(DEST) AS DEST, AVG(DEP_DELAY) AS DEP_DELAY from flights GROUP BY FL_DATE, OP_CARRIER, ORIGIN, DEST ORDER BY FL_DATE DESC\")\n",
    "groupedDelays.createOrReplaceTempView(\"grouped_delays\")\n"
   ]
  },
  {
   "cell_type": "code",
   "execution_count": 450,
   "metadata": {},
   "outputs": [
    {
     "name": "stdout",
     "output_type": "stream",
     "text": [
      "+----------+----------+------+----+----------------------+-----------------------+--------------------+\n",
      "|   FL_DATE|OP_CARRIER|ORIGIN|DEST|MovingAverageSevenDays|MovingAverageThirtyDays|MovingAverage365Days|\n",
      "+----------+----------+------+----+----------------------+-----------------------+--------------------+\n",
      "|2018-07-15|        9E|   ACK| LGA|                8.6875|      7.376344086021506| 0.39492258652094714|\n",
      "|2018-07-15|        9E|   ATL| BHM|               10.8375|      6.882795698924731|  0.5411885245901638|\n",
      "|2018-07-15|        9E|   AGS| ATL|                   6.0|      7.521505376344087| 0.42634335154826947|\n",
      "|2018-07-15|        9E|   ATL| AGS|                7.8375|      7.076344086021505| 0.46923952641165745|\n",
      "|2018-07-15|        9E|   ATL| ATW|                9.3375|      7.495698924731183|  0.5211520947176685|\n",
      "+----------+----------+------+----+----------------------+-----------------------+--------------------+\n",
      "only showing top 5 rows\n",
      "\n"
     ]
    }
   ],
   "source": [
    "dfDelaysMA = spark.sql(\"SELECT FL_DATE, FIRST(OP_CARRIER) AS OP_CARRIER, FIRST(ORIGIN) AS ORIGIN, FIRST(DEST) AS DEST, AVG(FIRST(DEP_DELAY)) OVER (ORDER BY FL_DATE ASC ROWS BETWEEN 7 PRECEDING AND CURRENT ROW) AS MovingAverageSevenDays, AVG(FIRST(DEP_DELAY)) OVER (ORDER BY FL_DATE ASC ROWS BETWEEN 30 PRECEDING AND CURRENT ROW) AS MovingAverageThirtyDays, AVG(FIRST(DEP_DELAY)) OVER (ORDER BY FL_DATE ASC ROWS BETWEEN 365 PRECEDING AND CURRENT ROW) AS MovingAverage365Days from grouped_delays GROUP BY FL_DATE, OP_CARRIER, ORIGIN, DEST ORDER BY FL_DATE DESC\")\n",
    "dfDelaysMA.show(5)"
   ]
  },
  {
   "cell_type": "markdown",
   "id": "9204ebac",
   "metadata": {
    "id": "9204ebac"
   },
   "source": [
    "#### Discussion\n",
    "\n",
    "**Explain your code and discuss results**"
   ]
  },
  {
   "cell_type": "markdown",
   "id": "822b0e6d",
   "metadata": {
    "id": "822b0e6d"
   },
   "source": [
    "## Problem 3 [4 points]\n",
    "\n",
    "Transform the flights data to include a class, depending on the delay - SHORT, LONG - depending on whether the departure delay was less than 10 minutes, or greater or equal to 10 minutes.\n",
    "\n",
    "Build and evaluate a classification model for the data.\n"
   ]
  },
  {
   "cell_type": "code",
   "execution_count": 27,
   "id": "6ed0db82",
   "metadata": {
    "id": "6ed0db82"
   },
   "outputs": [],
   "source": [
    "from sklearn import tree\n",
    "from sklearn.model_selection import train_test_split\n",
    "import random\n",
    "from datetime import datetime\n",
    "from sklearn.metrics import confusion_matrix, accuracy_score, f1_score, precision_score, roc_auc_score, recall_score\n",
    "import seaborn as sns\n",
    "from pyspark.sql.types import IntegerType\n",
    "from pyspark.ml.feature import OneHotEncoder, StringIndexer\n",
    "from pyspark.ml.linalg import Vectors\n",
    "from pyspark.ml.feature import VectorAssembler\n",
    "from pyspark.ml.classification import LogisticRegression\n",
    "from pyspark.ml.evaluation import BinaryClassificationEvaluator\n",
    "\n",
    "dfLongShort = spark.sql(\"SELECT FL_DATE, OP_CARRIER, ORIGIN, DEST, CRS_DEP_TIME, DEP_DELAY FROM flights LIMIT 1000000\")\n",
    "\n",
    "#0 is for SHORT delay, 1 is for LONG delay\n",
    "dfLongShort = dfLongShort.withColumn(\"IS_LONG_DELAY\", when(col(\"DEP_DELAY\") < 10, 0).otherwise(1))\n",
    "\n",
    "#Create MONTH column\n",
    "dfLongShort = dfLongShort.withColumn(\"MONTH\", date_format(col(\"FL_DATE\"), \"MM\"))\n",
    "\n",
    "#Create DAY column\n",
    "dfLongShort = dfLongShort.withColumn(\"DAY\", date_format(col(\"FL_DATE\"), \"dd\"))\n",
    "\n",
    "#Cast to Integer MONTH and DAY columns and remove FL_DATE column\n",
    "dfLongShort = dfLongShort.withColumn(\"MONTH\", dfLongShort[\"MONTH\"].cast(IntegerType()))\n",
    "dfLongShort = dfLongShort.withColumn(\"DAY\", dfLongShort[\"DAY\"].cast(IntegerType()))\n",
    "dfLongShort = dfLongShort.drop(\"FL_DATE\")\n",
    "\n",
    "#Create PERIOD Column based on the period of the day the flight was scheduled to\n",
    "dfLongShort = dfLongShort.withColumn(\n",
    "    'PERIOD',\n",
    "    when((col(\"CRS_DEP_TIME\") >= '00:00') & (col(\"CRS_DEP_TIME\") <= '05:59'), 0)\\\n",
    "    .when((col(\"CRS_DEP_TIME\") >= '06:00') & (col(\"CRS_DEP_TIME\") <= '11:59'), 1)\\\n",
    "    .when((col(\"CRS_DEP_TIME\") >= '12:00') & (col(\"CRS_DEP_TIME\") <= '15:59'), 2)\\\n",
    "    .when((col(\"CRS_DEP_TIME\") >= '16:00') & (col(\"CRS_DEP_TIME\") <= '19:59'), 3)\\\n",
    "    .otherwise(4)\n",
    ")\n",
    "\n",
    "\n",
    "dfLongShort = dfLongShort.drop(\"CRS_DEP_TIME\")\n",
    "\n",
    "#Transform string values of OP_CARRIER, ORIGIN and DEST to numerical values so it can be used as features for the model\n",
    "carrier_indexer = StringIndexer(inputCol=\"OP_CARRIER\", outputCol=\"OP_CARRIER_INDEX\")\n",
    "dfLongShort = carrier_indexer.fit(dfLongShort).transform(dfLongShort)\n",
    "origin_indexer = StringIndexer(inputCol=\"ORIGIN\", outputCol=\"ORIGIN_INDEX\")\n",
    "dfLongShort = origin_indexer.fit(dfLongShort).transform(dfLongShort)\n",
    "dest_indexer = StringIndexer(inputCol=\"DEST\", outputCol=\"DEST_INDEX\")\n",
    "dfLongShort = dest_indexer.fit(dfLongShort).transform(dfLongShort)\n",
    "\n",
    "dfLongShort = dfLongShort.drop(\"OP_CARRIER\")\n",
    "dfLongShort = dfLongShort.drop(\"ORIGIN\")\n",
    "dfLongShort = dfLongShort.drop(\"DEST\")\n",
    "\n",
    "#One hot encoder for fields with categorical nature\n",
    "encoder = OneHotEncoder(inputCols=[\"PERIOD\", \"OP_CARRIER_INDEX\", \"ORIGIN_INDEX\", \"DEST_INDEX\"], outputCols=[\"PERIOD_ENCOD\", \"OP_CARRIER_ENCOD\", \"ORIGIN_ENCOD\", \"DEST_ENCOD\"])\n",
    "dfLongShort = encoder.fit(dfLongShort).transform(dfLongShort)\n",
    "\n",
    "#Create array of features and define input and output variables\n",
    "assembler = VectorAssembler(inputCols=[\"MONTH\", \"DAY\", \"PERIOD_ENCOD\", \"OP_CARRIER_ENCOD\", \"ORIGIN_ENCOD\", \"DEST_ENCOD\"], outputCol=\"features\")\n",
    "output = assembler.transform(dfLongShort)\n",
    "output = output.select(col(\"features\"), col(\"IS_LONG_DELAY\").alias(\"label\"))\n",
    "\n",
    "#Split train and test set\n",
    "train, test = output.randomSplit([0.7, 0.3], seed=123)\n"
   ]
  },
  {
   "cell_type": "code",
   "execution_count": 28,
   "metadata": {},
   "outputs": [],
   "source": [
    "logModel = LogisticRegression(labelCol=\"label\").fit(train)"
   ]
  },
  {
   "cell_type": "code",
   "execution_count": 29,
   "metadata": {},
   "outputs": [
    {
     "name": "stdout",
     "output_type": "stream",
     "text": [
      "Accuracy Score for Logistic Regression (Training Set): 0.7472097272781866\n",
      "ROC-AUC Score for Logistic Regression (Training Set): 0.6857530376240283\n",
      "Weighted F1-Score for Logistic Regression (Training Set): 0.6638056596856362\n"
     ]
    }
   ],
   "source": [
    "summary = logModel.summary\n",
    "\n",
    "print(f\"Accuracy Score for Logistic Regression (Training Set): {summary.accuracy}\")\n",
    "print(f\"ROC-AUC Score for Logistic Regression (Training Set): {summary.areaUnderROC}\")\n",
    "print(f\"Weighted F1-Score for Logistic Regression (Training Set): {summary.weightedFMeasure()}\")"
   ]
  },
  {
   "cell_type": "code",
   "execution_count": 30,
   "metadata": {},
   "outputs": [],
   "source": [
    "pred = logModel.evaluate(test)"
   ]
  },
  {
   "cell_type": "code",
   "execution_count": 31,
   "metadata": {},
   "outputs": [
    {
     "name": "stdout",
     "output_type": "stream",
     "text": [
      "Accuracy Score for Logistic Regression (Test Set): 0.747446824082021\n",
      "ROC Score for Logistic Regression (Test Set): 0.6818898143357056\n",
      "Weighted F1-Score for Logistic Regression (Test Set): 0.6641627463422044\n"
     ]
    }
   ],
   "source": [
    "print(f\"Accuracy Score for Logistic Regression (Test Set): {pred.accuracy}\")\n",
    "print(f\"ROC Score for Logistic Regression (Test Set): {pred.areaUnderROC}\")\n",
    "print(f\"Weighted F1-Score for Logistic Regression (Test Set): {pred.weightedFMeasure()}\")"
   ]
  },
  {
   "cell_type": "code",
   "execution_count": 39,
   "metadata": {},
   "outputs": [],
   "source": [
    "pred.predictions.createOrReplaceTempView(\"predictions\")"
   ]
  },
  {
   "cell_type": "code",
   "execution_count": 50,
   "metadata": {},
   "outputs": [
    {
     "name": "stderr",
     "output_type": "stream",
     "text": [
      "/opt/anaconda3/lib/python3.7/site-packages/pyspark/sql/pandas/conversion.py:87: UserWarning: toPandas attempted Arrow optimization because 'spark.sql.execution.arrow.pyspark.enabled' is set to true; however, failed by the reason below:\n",
      "  PyArrow >= 1.0.0 must be installed; however, it was not found.\n",
      "Attempting non-optimization as 'spark.sql.execution.arrow.pyspark.fallback.enabled' is set to true.\n",
      "  warnings.warn(msg)\n"
     ]
    }
   ],
   "source": [
    "dfPredictions = spark.sql(\"SELECT SUM(CASE WHEN (label=0 AND prediction=0) THEN 1 ELSE 0 END) AS T_N, SUM(CASE WHEN (label=1 AND prediction=0) THEN 1 ELSE 0 END) AS F_N, SUM(CASE WHEN (label=0 AND prediction=1) THEN 1 ELSE 0 END) AS F_P, SUM(CASE WHEN (label=1 AND prediction=1) THEN 1 ELSE 0 END) AS T_P FROM predictions\")\n",
    "dfPredictions = dfPredictions.toPandas()"
   ]
  },
  {
   "cell_type": "code",
   "execution_count": 65,
   "metadata": {},
   "outputs": [
    {
     "name": "stdout",
     "output_type": "stream",
     "text": [
      "Predicted\t\t0\t\t1\n",
      "Actual\n",
      "0\t\t      219791\t      71861\n",
      "1\t\t      4058\t      4896\n"
     ]
    }
   ],
   "source": [
    "array_confusion = dfPredictions.iloc[0]\n",
    "\n",
    "print(\"Predicted\\t\\t0\\t\\t1\")\n",
    "print(f\"Actual\\n0\\t\\t      {array_confusion[0]}\\t      {array_confusion[1]}\\n1\\t\\t      {array_confusion[2]}\\t      {array_confusion[3]}\")\n"
   ]
  },
  {
   "cell_type": "markdown",
   "id": "9f5c396f",
   "metadata": {
    "id": "9f5c396f"
   },
   "source": [
    "#### Discussion\n",
    "\n",
    "**Explain your code and discuss results**"
   ]
  },
  {
   "cell_type": "markdown",
   "id": "e53677c5",
   "metadata": {
    "id": "e53677c5"
   },
   "source": [
    "## Problem 4 [4 points]\n",
    "\n",
    "Consider we want to cluster airports depending on their properties, such as average number of flights per day, delays, cancellations, etc.\n",
    "\n",
    "Measure the quality of your clustering result."
   ]
  },
  {
   "cell_type": "code",
   "execution_count": 13,
   "id": "9338a0a3",
   "metadata": {
    "id": "9338a0a3"
   },
   "outputs": [
    {
     "name": "stdout",
     "output_type": "stream",
     "text": [
      "Silhouette score for K2: 0.7246810522069047\n",
      "Silhouette score for K3: 0.7701325175988071\n",
      "Silhouette score for K4: 0.7871707496917884\n",
      "Silhouette score for K5: 0.5858584493756787\n",
      "Silhouette score for K6: 0.5205522943727667\n",
      "Silhouette score for K7: 0.5457650489177809\n"
     ]
    }
   ],
   "source": [
    "from pyspark.ml.clustering import KMeans\n",
    "from pyspark.ml.evaluation import ClusteringEvaluator\n",
    "from pyspark.ml.feature import StandardScaler, StringIndexer, VectorAssembler\n",
    "\n",
    "dfAirports = spark.sql(\"SELECT f.ORIGIN AS CODE, FIRST(a.name) AS NAME, FIRST(a.type) AS TYPE, COUNT(f.ORIGIN)/COUNT(DISTINCT f.FL_DATE) AS FLIGHTS_PER_DAY, SUM(f.CANCELLED) AS FLIGHTS_CANCELLED, AVG(f.AIR_TIME) AS FLIGHT_DURATION_AVG, AVG(f.DISTANCE) AS FLIGHT_DISTANCE_AVG FROM flights f INNER JOIN airports a ON f.ORIGIN = a.iata_code GROUP BY CODE LIMIT 100\")\n",
    "\n",
    "type_indexer = StringIndexer(inputCol=\"TYPE\", outputCol=\"TYPE_INDEX\")\n",
    "dfAirports = type_indexer.fit(dfAirports).transform(dfAirports)\n",
    "\n",
    "dfAirports = dfAirports.drop(\"TYPE\")\n",
    "\n",
    "listColumns = [\"FLIGHTS_PER_DAY\", \"FLIGHTS_CANCELLED\", \"FLIGHT_DURATION_AVG\", \"FLIGHT_DISTANCE_AVG\"]\n",
    "\n",
    "assembler = VectorAssembler(inputCols=listColumns, outputCol=\"features\")\n",
    "output = assembler.transform(dfAirports)\n",
    "\n",
    "scaler = StandardScaler(inputCol=\"features\", outputCol=\"features_scaled\", withStd=True, withMean=False)\n",
    "scaled_output = scaler.fit(output).transform(output)\n",
    "\n",
    "evaluator = ClusteringEvaluator(predictionCol=\"prediction\", featuresCol=\"features_scaled\", metricName=\"silhouette\", distanceMeasure=\"squaredEuclidean\")\n",
    "\n",
    "silhouette_scores = []\n",
    "\n",
    "for i in range(2,8):\n",
    "    kmeans = KMeans(featuresCol=\"features_scaled\", k=i)\n",
    "    kmeans_fit = kmeans.fit(scaled_output)\n",
    "    final_output = kmeans_fit.transform(scaled_output)\n",
    "    score = evaluator.evaluate(final_output)\n",
    "    silhouette_scores.append(score)\n",
    "    \n",
    "    print(f\"Silhouette score for K{i}: {score}\")"
   ]
  },
  {
   "cell_type": "code",
   "execution_count": 26,
   "metadata": {},
   "outputs": [
    {
     "data": {
      "text/plain": [
       "Text(0, 0.5, 'Score')"
      ]
     },
     "execution_count": 26,
     "metadata": {},
     "output_type": "execute_result"
    },
    {
     "data": {
      "image/png": "[encoded data removed]",
      "text/plain": [
       "<Figure size 864x576 with 1 Axes>"
      ]
     },
     "metadata": {},
     "output_type": "display_data"
    }
   ],
   "source": [
    "fig, ax = plt.subplots(1, 1, figsize=(12,8))\n",
    "ax.bar(range(2,8), np.array(silhouette_scores))\n",
    "ax.set_xlabel(\"K\")\n",
    "ax.set_ylabel(\"Score\")"
   ]
  },
  {
   "cell_type": "markdown",
   "id": "953bacbe",
   "metadata": {
    "id": "953bacbe"
   },
   "source": [
    "#### Discussion\n",
    "\n",
    "**Explain your code and discuss results**"
   ]
  },
  {
   "cell_type": "markdown",
   "id": "1f71dae3",
   "metadata": {
    "id": "1f71dae3"
   },
   "source": [
    "## Problem 5 [3 points]\n",
    "\n",
    "We now want to find communities of airports, i.e., airports that are connected based on the flights that exist.\n",
    "\n",
    "Propose an algorithm to solve this problem and plot the communities as a graph. Run the program with and without GPU support."
   ]
  },
  {
   "cell_type": "code",
   "execution_count": 399,
   "metadata": {},
   "outputs": [],
   "source": [
    "from graphframes import *\n",
    "from graphframes.examples import Graphs\n",
    "from pyspark import *\n",
    "from pyspark.sql import *"
   ]
  },
  {
   "cell_type": "code",
   "execution_count": 366,
   "id": "a523508e",
   "metadata": {
    "id": "a523508e"
   },
   "outputs": [
    {
     "name": "stdout",
     "output_type": "stream",
     "text": [
      "+-------+\n",
      "|AIRPORT|\n",
      "+-------+\n",
      "|    BGM|\n",
      "|    DLG|\n",
      "|    PSE|\n",
      "|    INL|\n",
      "|    MSY|\n",
      "|    PPG|\n",
      "|    GEG|\n",
      "|    DRT|\n",
      "|    BUR|\n",
      "|    SNA|\n",
      "|    GRB|\n",
      "|    GTF|\n",
      "|    IFP|\n",
      "|    IDA|\n",
      "|    GRR|\n",
      "|    LWB|\n",
      "|    JLN|\n",
      "|    PVU|\n",
      "|    PSG|\n",
      "|    EUG|\n",
      "+-------+\n",
      "only showing top 20 rows\n",
      "\n"
     ]
    }
   ],
   "source": [
    "originsDistinct = spark.sql(\"SELECT DISTINCT ORIGIN AS AIRPORT FROM flights LIMIT 100\")\n",
    "destinationsDistinct = spark.sql(\"SELECT DISTINCT DEST AS AIRPORT FROM flights LIMIT 100\")\n",
    "flightsDistinct = spark.sql(\"SELECT DISTINCT (ORIGIN, DEST) AS AIRPORT FROM flights LIMIT 100\")\n",
    "airportsDistinct = originsDistinct.union(destinationsDistinct).dropDuplicates()\n",
    "airportsDistinct.show()"
   ]
  },
  {
   "cell_type": "code",
   "execution_count": 367,
   "metadata": {},
   "outputs": [
    {
     "name": "stdout",
     "output_type": "stream",
     "text": [
      "+----------+\n",
      "|   AIRPORT|\n",
      "+----------+\n",
      "|{MCI, IAH}|\n",
      "|{ROC, CLE}|\n",
      "|{SNA, PHX}|\n",
      "|{SPI, ORD}|\n",
      "|{ATL, GSP}|\n",
      "|{BQN, MCO}|\n",
      "|{EWR, STT}|\n",
      "|{FSD, ATL}|\n",
      "|{MLI, MCO}|\n",
      "|{PHL, MCO}|\n",
      "|{LAX, OXR}|\n",
      "|{ORD, PDX}|\n",
      "|{PBI, DCA}|\n",
      "|{LAS, LIT}|\n",
      "|{SMF, BUR}|\n",
      "|{CLE, SJU}|\n",
      "|{AMA, MEM}|\n",
      "|{DSM, MCO}|\n",
      "|{TYS, MIA}|\n",
      "|{MCI, MKE}|\n",
      "+----------+\n",
      "only showing top 20 rows\n",
      "\n"
     ]
    }
   ],
   "source": [
    "flightsDistinct.show()"
   ]
  },
  {
   "cell_type": "markdown",
   "id": "fc569949",
   "metadata": {
    "id": "fc569949"
   },
   "source": [
    "#### Discussion\n",
    "\n",
    "**Explain your code and discuss results**"
   ]
  }
 ],
 "metadata": {
  "accelerator": "GPU",
  "colab": {
   "name": "Group_project.ipynb",
   "provenance": []
  },
  "kernelspec": {
   "display_name": "Python 3",
   "language": "python",
   "name": "python3"
  },
  "language_info": {
   "codemirror_mode": {
    "name": "ipython",
    "version": 3
   },
   "file_extension": ".py",
   "mimetype": "text/x-python",
   "name": "python",
   "nbconvert_exporter": "python",
   "pygments_lexer": "ipython3",
   "version": "3.7.6"
  }
 },
 "nbformat": 4,
 "nbformat_minor": 5
}
