{
 "cells": [
  {
   "cell_type": "markdown",
   "id": "ebeaa91c",
   "metadata": {
    "id": "ebeaa91c"
   },
   "source": [
    "# Group project\n",
    "\n",
    "By delivering this notebook, we confirm that the group project was developed by the following students.\n",
    "\n",
    "## Student 1: Rômulo, 50530\n",
    "## Student 2: Maria, 50465\n"
   ]
  },
  {
   "cell_type": "markdown",
   "id": "d9e90bac",
   "metadata": {
    "id": "d9e90bac"
   },
   "source": [
    "The group project will focus on analysing data on flights in the US.\n",
    "\n",
    "Unless otherwise specified, the problems can be solved using either Spark or Pandas.\n",
    "\n",
    "Some useful links:\n",
    "\n",
    "* [Spark web site](https://spark.apache.org/)\n",
    "\n",
    "* [Spark MLlib main page](https://spark.apache.org/mllib/)\n",
    "* [Spark MLlib guide](https://spark.apache.org/docs/latest/ml-guide.html)\n",
    "\n",
    "* [Spark GraphX main page](https://spark.apache.org/graphx/)\n",
    "* [Spark GraphFrames main page](https://graphframes.github.io/graphframes/docs/_site/index.html)\n",
    "* [Spark GraphFrames User Guide](https://graphframes.github.io/graphframes/docs/_site/user-guide.html)\n"
   ]
  },
  {
   "cell_type": "markdown",
   "id": "b6f57801",
   "metadata": {
    "id": "b6f57801"
   },
   "source": [
    "## Colab setup\n",
    "\n",
    "The following cell will install Spark, if the notebook is running on COLAB. Before running this cell, you should access the following link [https://drive.google.com/drive/folders/1hylIwkzcOWjYMQW2wWSVRmAN9mEyGToP?usp=sharing](https://drive.google.com/drive/folders/1hylIwkzcOWjYMQW2wWSVRmAN9mEyGToP?usp=sharing)"
   ]
  },
  {
   "cell_type": "code",
   "execution_count": 390,
   "id": "5fae91c0",
   "metadata": {
    "id": "5fae91c0"
   },
   "outputs": [],
   "source": [
    "#Run this cell to install Spark on Colab\n",
    "import os\n",
    "\n",
    "if 'COLAB_GPU' in os.environ : \n",
    "    !apt-get install openjdk-8-jdk-headless\n",
    "    !pip install pyspark==3.1.2\n",
    "    !wget https://repos.spark-packages.org/graphframes/graphframes/0.8.2-spark3.1-s_2.12/graphframes-0.8.2-spark3.1-s_2.12.jar -y\n",
    "    os.environ['PYSPARK_SUBMIT_ARGS'] = '--jars graphframes-0.8.2-spark3.1-s_2.12.jar pyspark-shell'\n",
    "\n",
    "    from google.colab import drive\n",
    "    drive.mount('/content/drive')\n",
    "\n"
   ]
  },
  {
   "cell_type": "markdown",
   "id": "9b22fa1b",
   "metadata": {
    "id": "9b22fa1b"
   },
   "source": [
    "## Local setup\n",
    "\n",
    "For running the group project locally, you should create a directory named **data** in the directory where you have this notebook. Then, you should download to the **data** directory the files in the following link: [https://drive.google.com/drive/folders/1hylIwkzcOWjYMQW2wWSVRmAN9mEyGToP?usp=sharing](https://drive.google.com/drive/folders/1hylIwkzcOWjYMQW2wWSVRmAN9mEyGToP?usp=sharing)."
   ]
  },
  {
   "cell_type": "markdown",
   "id": "83396505",
   "metadata": {
    "id": "83396505"
   },
   "source": [
    "## Initialization"
   ]
  },
  {
   "cell_type": "markdown",
   "id": "d3aac495",
   "metadata": {
    "id": "d3aac495"
   },
   "source": [
    "Import libraries. "
   ]
  },
  {
   "cell_type": "code",
   "execution_count": 1,
   "id": "69621cc6",
   "metadata": {
    "id": "69621cc6"
   },
   "outputs": [
    {
     "name": "stdout",
     "output_type": "stream",
     "text": [
      "3.1.2\n"
     ]
    }
   ],
   "source": [
    "import os\n",
    "import time\n",
    "import pandas as pd\n",
    "import numpy as np\n",
    "import matplotlib.pyplot as plt\n",
    "import pyspark\n",
    "from pyspark.sql import SparkSession\n",
    "from pyspark.sql.types import *\n",
    "from pyspark.sql.functions import *\n",
    "from pyspark.ml.linalg import Vectors\n",
    "\n",
    "plt.style.use('seaborn')\n",
    "\n",
    "print(pyspark.__version__)\n"
   ]
  },
  {
   "cell_type": "markdown",
   "id": "ee5839cf",
   "metadata": {
    "id": "ee5839cf"
   },
   "source": [
    "Let's start spark session and set *log* level to ERROR."
   ]
  },
  {
   "cell_type": "code",
   "execution_count": 384,
   "id": "6ad40951",
   "metadata": {
    "id": "6ad40951"
   },
   "outputs": [],
   "source": [
    "\n",
    "spark = SparkSession.builder \\\n",
    "    .master(\"local\") \\\n",
    "    .appName(\"Group project\") \\\n",
    "    .config(\"spark.sql.execution.arrow.pyspark.enabled\", \"true\") \\\n",
    "    .getOrCreate()\n",
    "\n",
    "if 'COLAB_GPU' in os.environ : \n",
    "    spark.sparkContext.addPyFile('graphframes-0.8.2-spark3.1-s_2.12.jar')\n",
    "elif 'DATABRICKS_RUNTIME_VERSION' in os.environ : \n",
    "    # TO BE COMPLETE\n",
    "    ;\n",
    "else:\n",
    "    spark.sparkContext.addPyFile('graphframes-0.8.2-spark3.0-s_2.12.jar')\n",
    "\n",
    "\n",
    "spark.sparkContext.setLogLevel(\"ERROR\")"
   ]
  },
  {
   "cell_type": "markdown",
   "id": "e23071d0",
   "metadata": {
    "id": "e23071d0"
   },
   "source": [
    "## Data selection\n",
    "\n",
    "This cell controls the dataset you will be using. Note that this cell will control the path to the files, dependening on the platform you are using to run the code.\n"
   ]
  },
  {
   "cell_type": "code",
   "execution_count": 10,
   "id": "c836342f",
   "metadata": {
    "id": "c836342f"
   },
   "outputs": [],
   "source": [
    "# Comment the following \n",
    "flightsF = \"sample.csv\"\n",
    "# flightsF = \"complete.csv\"\n",
    "#flightsF = \"data-2009.csv\"\n",
    "#flightsF = \"data-2010.csv\"\n",
    "#flightsF = \"data-2011.csv\"\n",
    "#flightsF = \"data-2012.csv\"\n",
    "#flightsF = \"data-2013.csv\"\n",
    "#flightsF = \"data-2014.csv\"\n",
    "#flightsF = \"data-2015.csv\"\n",
    "#flightsF = \"data-2016.csv\"\n",
    "#flightsF = \"data-2017.csv\"\n",
    "#flightsF = \"data-2018.csv\"\n",
    "\n",
    "if 'COLAB_GPU' in os.environ : \n",
    "    FLIGHTS_FILENAME = \"/content/drive/MyDrive/group2122/\" + flightsF\n",
    "    AIRPORTS_FILENAME = \"/content/drive/MyDrive/group2122/airports.csv\"\n",
    "    HOLIDAYS_FILENAME = \"/content/drive/MyDrive/group2122/holidays.csv\"\n",
    "elif 'DATABRICKS_RUNTIME_VERSION' in os.environ : \n",
    "    # TO BE COMPLETE\n",
    "    ;\n",
    "else:\n",
    "    FLIGHTS_FILENAME = os.path.join( \"data\", flightsF)\n",
    "    AIRPORTS_FILENAME = os.path.join( \"data\", \"airports.csv\")\n",
    "    HOLIDAYS_FILENAME = os.path.join( \"data\", \"holidays.csv\")\n"
   ]
  },
  {
   "cell_type": "markdown",
   "id": "198a44fe",
   "metadata": {
    "id": "198a44fe"
   },
   "source": [
    "## Datasets\n",
    "\n",
    "This section describes the datasets you have available for your analysis."
   ]
  },
  {
   "cell_type": "markdown",
   "id": "514ef634",
   "metadata": {
    "id": "514ef634"
   },
   "source": [
    "### Flights\n",
    "\n",
    "The flights dataset, generated from data available at [https://www.transtats.bts.gov/DataIndex.asp](https://www.transtats.bts.gov/DataIndex.asp), includes the following columns:\n",
    "\n",
    "* FL_DATE: date of the flight (format: yyyy-mm-dd)\n",
    "* OP_CARRIER: carrier code\n",
    "* OP_CARRIER_FL_NUM: carrier flight number\n",
    "* ORIGIN: origin airport (using IATA codes)\n",
    "* DEST: destination airport (using IATA codes)\n",
    "* CRS_DEP_TIME: scheduled local departure time (format for all times: hh:mm)\n",
    "* DEP_TIME: actual departure time\n",
    "* DEP_DELAY: departure delay, in minutes\n",
    "* TAXI_OUT: taxi out time\n",
    "* WHEELS_OFF: actual local wheel off time\n",
    "* WHEELS_ON: actual local wheel on time\n",
    "* TAXI_IN: actual local taxi in time\n",
    "* CRS_ARR_TIME: scheduled local arrival time\n",
    "* ARR_TIME: actual arrival time\n",
    "* ARR_DELAY: arrival delay, in minutes\n",
    "* CANCELLED: 1 if the flight has been cancelled; 0 otherwise\n",
    "* CANCELLATION_CODE: code of cancelation (A = carrier, B = weather, C = NAS, D = security)\n",
    "* DIVERTED: 1 if the flight has been diverted; 0 otherwise\n",
    "* CRS_ELAPSED_TIME: estimated elapsed time\n",
    "* ACTUAL_ELAPSED_TIME: actual elapsed time\n",
    "* AIR_TIME: flight time, in minutes\n",
    "* DISTANCE: flight distance, in miles\n",
    "* CARRIER_DELAY: delay due to carrier, in minutes\n",
    "* WEATHER_DELAY: delay due to weather, in minutes\n",
    "* NAS_DELAY: delay due to NAS, in minutes\n",
    "* SECURITY_DELAY: delay due to security, in minutes\n",
    "* LATE_AIRCRAFT_DELAY: delay due to late aircraft, in minutes\n",
    "\n",
    "The following data files are available:\n",
    "\n",
    "* complete.csv : complete data set, including data from 2009 to 2018\n",
    "* sample.csv : sample data set, including data from July 1 to July 15, from years 2009 to 2018\n",
    "* data-20xx.csv : data set for a particular year\n",
    "\n",
    "Load the dataset into flightsDF dataframe and register flights under view name **flights**. We are setting the schema programmatically, because inferring the schema in a very large dataframe is slow.\n"
   ]
  },
  {
   "cell_type": "code",
   "execution_count": 11,
   "id": "a4ac960a",
   "metadata": {
    "id": "a4ac960a"
   },
   "outputs": [
    {
     "name": "stdout",
     "output_type": "stream",
     "text": [
      "+----------+----------+-----------------+------+----+------------+--------+---------+--------+----------+---------+-------+------------+--------+---------+---------+-----------------+--------+----------------+-------------------+--------+--------+-------------+-------------+---------+--------------+-------------------+\n",
      "|   FL_DATE|OP_CARRIER|OP_CARRIER_FL_NUM|ORIGIN|DEST|CRS_DEP_TIME|DEP_TIME|DEP_DELAY|TAXI_OUT|WHEELS_OFF|WHEELS_ON|TAXI_IN|CRS_ARR_TIME|ARR_TIME|ARR_DELAY|CANCELLED|CANCELLATION_CODE|DIVERTED|CRS_ELAPSED_TIME|ACTUAL_ELAPSED_TIME|AIR_TIME|DISTANCE|CARRIER_DELAY|WEATHER_DELAY|NAS_DELAY|SECURITY_DELAY|LATE_AIRCRAFT_DELAY|\n",
      "+----------+----------+-----------------+------+----+------------+--------+---------+--------+----------+---------+-------+------------+--------+---------+---------+-----------------+--------+----------------+-------------------+--------+--------+-------------+-------------+---------+--------------+-------------------+\n",
      "|2009-07-01|        XE|             5660|   ORD| ROC|       07:17|   07:11|       -6|      12|     07:23|    09:39|      4|       09:56|   09:43|      -13|        0|             null|       0|              99|                 92|      76|     528|         null|         null|     null|          null|               null|\n",
      "|2009-07-01|        XE|             5661|   ROC| ORD|       09:48|   09:43|       -5|       7|     09:50|    10:11|     22|       10:38|   10:33|       -5|        0|             null|       0|             110|                110|      81|     528|         null|         null|     null|          null|               null|\n",
      "|2009-07-01|        XE|             5662|   ORD| SDF|       10:26|   10:22|       -4|       9|     10:31|    12:20|      7|       12:50|   12:27|      -23|        0|             null|       0|              84|                 65|      49|     286|         null|         null|     null|          null|               null|\n",
      "+----------+----------+-----------------+------+----+------------+--------+---------+--------+----------+---------+-------+------------+--------+---------+---------+-----------------+--------+----------------+-------------------+--------+--------+-------------+-------------+---------+--------------+-------------------+\n",
      "only showing top 3 rows\n",
      "\n"
     ]
    }
   ],
   "source": [
    "flightsSchema = StructType([\n",
    "    StructField(\"FL_DATE\", DateType()),\n",
    "    StructField(\"OP_CARRIER\", StringType()),\n",
    "    StructField(\"OP_CARRIER_FL_NUM\", IntegerType()),\n",
    "    StructField(\"ORIGIN\", StringType()),\n",
    "    StructField(\"DEST\", StringType()),\n",
    "    StructField(\"CRS_DEP_TIME\", StringType()),\n",
    "    StructField(\"DEP_TIME\", StringType()),\n",
    "    StructField(\"DEP_DELAY\", IntegerType()),\n",
    "    StructField(\"TAXI_OUT\", IntegerType()),\n",
    "    StructField(\"WHEELS_OFF\", StringType()),\n",
    "    StructField(\"WHEELS_ON\", StringType()),\n",
    "    StructField(\"TAXI_IN\", IntegerType()),\n",
    "    StructField(\"CRS_ARR_TIME\", StringType()),\n",
    "    StructField(\"ARR_TIME\", StringType()),\n",
    "    StructField(\"ARR_DELAY\", IntegerType()),\n",
    "    StructField(\"CANCELLED\", IntegerType()),\n",
    "    StructField(\"CANCELLATION_CODE\", StringType()),\n",
    "    StructField(\"DIVERTED\", IntegerType()),\n",
    "    StructField(\"CRS_ELAPSED_TIME\", IntegerType()),\n",
    "    StructField(\"ACTUAL_ELAPSED_TIME\", IntegerType()),\n",
    "    StructField(\"AIR_TIME\", IntegerType()),\n",
    "    StructField(\"DISTANCE\", IntegerType()),\n",
    "    StructField(\"CARRIER_DELAY\", IntegerType()),\n",
    "    StructField(\"WEATHER_DELAY\", IntegerType()),\n",
    "    StructField(\"NAS_DELAY\", IntegerType()),\n",
    "    StructField(\"SECURITY_DELAY\", IntegerType()),\n",
    "    StructField(\"LATE_AIRCRAFT_DELAY\", IntegerType())\n",
    "    ])\n",
    "\n",
    "flightsDF = spark.read.option(\"header\", True).schema(flightsSchema).csv(FLIGHTS_FILENAME)\n",
    "\n",
    "flightsDF.createOrReplaceTempView(\"flights\")\n",
    "\n",
    "flightsDF.show(3)"
   ]
  },
  {
   "cell_type": "markdown",
   "id": "3aaea788",
   "metadata": {
    "id": "3aaea788"
   },
   "source": [
    "### Airports\n",
    "\n",
    "The airports dataset includes the information about US airports - soure: [https://datahub.io/core/airport-codes](https://datahub.io/core/airport-codes).\n",
    "\n",
    "This dataset includes the following columns:\n",
    "\n",
    "* ident: identifier\n",
    "* type: type of airport\n",
    "* name: name of airport\n",
    "* elevation_ft: altitude, in feets\n",
    "* continent: code of continent\n",
    "* iso_country: coide of country\n",
    "* iso_regio: code of region\n",
    "* municipality: city\n",
    "* gps_code: code of GPS\n",
    "* iata_code: IATA code of aurport\n",
    "* local_code: local code of airport\n",
    "* coordinates: coordinates of airport\n",
    "\n",
    "Load the dataset into airportDF dataframe and register airports under view name **airports**.\n"
   ]
  },
  {
   "cell_type": "code",
   "execution_count": 12,
   "id": "d558994b",
   "metadata": {
    "id": "d558994b"
   },
   "outputs": [
    {
     "name": "stdout",
     "output_type": "stream",
     "text": [
      "+-----+-------------+--------------------+------------+---------+-----------+----------+------------+--------+---------+----------+--------------------+\n",
      "|ident|         type|                name|elevation_ft|continent|iso_country|iso_region|municipality|gps_code|iata_code|local_code|         coordinates|\n",
      "+-----+-------------+--------------------+------------+---------+-----------+----------+------------+--------+---------+----------+--------------------+\n",
      "|  00A|     heliport|   Total Rf Heliport|          11|       NA|         US|     US-PA|    Bensalem|     00A|     null|       00A|-74.9336013793945...|\n",
      "| 00AA|small_airport|Aero B Ranch Airport|        3435|       NA|         US|     US-KS|       Leoti|    00AA|     null|      00AA|-101.473911, 38.7...|\n",
      "| 00AK|small_airport|        Lowell Field|         450|       NA|         US|     US-AK|Anchor Point|    00AK|     null|      00AK|-151.695999146, 5...|\n",
      "+-----+-------------+--------------------+------------+---------+-----------+----------+------------+--------+---------+----------+--------------------+\n",
      "only showing top 3 rows\n",
      "\n"
     ]
    }
   ],
   "source": [
    "airportsDF = spark.read.option(\"header\", True).option(\"inferSchema\",True).csv(AIRPORTS_FILENAME)\n",
    "\n",
    "airportsDF.createOrReplaceTempView(\"airports\")\n",
    "\n",
    "airportsDF.show(3)\n"
   ]
  },
  {
   "cell_type": "markdown",
   "id": "122d4c09",
   "metadata": {
    "id": "122d4c09"
   },
   "source": [
    "Exemplify how you can plot information about airports."
   ]
  },
  {
   "cell_type": "code",
   "execution_count": 13,
   "id": "892455de",
   "metadata": {
    "id": "892455de"
   },
   "outputs": [
    {
     "name": "stdout",
     "output_type": "stream",
     "text": [
      "Plotting airport location - using altitude for different color\n"
     ]
    },
    {
     "name": "stderr",
     "output_type": "stream",
     "text": [
      "/opt/anaconda3/lib/python3.7/site-packages/pyspark/sql/pandas/conversion.py:87: UserWarning: toPandas attempted Arrow optimization because 'spark.sql.execution.arrow.pyspark.enabled' is set to true; however, failed by the reason below:\n",
      "  PyArrow >= 1.0.0 must be installed; however, it was not found.\n",
      "Attempting non-optimization as 'spark.sql.execution.arrow.pyspark.fallback.enabled' is set to true.\n",
      "  warnings.warn(msg)\n"
     ]
    },
    {
     "data": {
      "text/plain": [
       "<matplotlib.axes._subplots.AxesSubplot at 0x1a19cb9dd0>"
      ]
     },
     "execution_count": 13,
     "metadata": {},
     "output_type": "execute_result"
    },
    {
     "data": {
      "image/png": "[encoded data removed]",
      "text/plain": [
       "<Figure size 576x396 with 2 Axes>"
      ]
     },
     "metadata": {},
     "output_type": "display_data"
    }
   ],
   "source": [
    "airportLocDF = spark.sql(\"\"\"SELECT FLOAT(TRIM(SUBSTRING_INDEX(coordinates,',',1))) AS lon,\n",
    "                                    FLOAT(TRIM(SUBSTRING_INDEX(coordinates,',',-1))) AS lat,\n",
    "                                    elevation_ft AS val\n",
    "                        FROM airports \n",
    "                        WHERE type = 'large_airport' AND continent = 'NA' AND iso_country = 'US'\"\"\")\n",
    "\n",
    "print('Plotting airport location - using altitude for different color')\n",
    "airportLocPD = airportLocDF.toPandas()\n",
    "airportLocPD.plot(x=\"lon\",y=\"lat\",c=\"val\",s=10,cmap=\"rainbow\",kind=\"scatter\")\n"
   ]
  },
  {
   "cell_type": "markdown",
   "id": "e9c5d9b9",
   "metadata": {
    "id": "e9c5d9b9"
   },
   "source": [
    "### Public holidays\n",
    "\n",
    "Dates of public holidays in the US.\n",
    "\n",
    "This dataset includes the following columns:\n",
    "\n",
    "* Date: date (format: yyyy-mm-dd)\n",
    "* Holiday: name of the holiday\n",
    "* WeekDay: day of week\n",
    "* Month: month (1-12)\n",
    "* Day: day (1-31)\n",
    "* Year: year (2002-2021)\n",
    "\n",
    "Load the dataset into holidaysDF dataframe and register holidays under view name **holidays**.\n"
   ]
  },
  {
   "cell_type": "code",
   "execution_count": 14,
   "id": "d9f5f8df",
   "metadata": {
    "id": "d9f5f8df"
   },
   "outputs": [
    {
     "name": "stdout",
     "output_type": "stream",
     "text": [
      "+----------+-----------+-------+-----+---+----+\n",
      "|      Date|    Holiday|WeekDay|Month|Day|Year|\n",
      "+----------+-----------+-------+-----+---+----+\n",
      "|2004-07-04|4th of July| Sunday|    7|  4|2004|\n",
      "|2005-07-04|4th of July| Monday|    7|  4|2005|\n",
      "|2006-07-04|4th of July|Tuesday|    7|  4|2006|\n",
      "+----------+-----------+-------+-----+---+----+\n",
      "only showing top 3 rows\n",
      "\n"
     ]
    }
   ],
   "source": [
    "holidaysDF = spark.read.option(\"header\", True).option(\"inferSchema\",True).csv(HOLIDAYS_FILENAME)\n",
    "\n",
    "holidaysDF.createOrReplaceTempView(\"holidays\")\n",
    "\n",
    "holidaysDF.show(3)\n"
   ]
  },
  {
   "cell_type": "markdown",
   "id": "47dcbef8",
   "metadata": {
    "id": "47dcbef8"
   },
   "source": [
    "## Problem 0 [1 point]\n",
    "\n",
    "We start by executing some simple statistics to compare the execution time between Spark and Pandas.\n"
   ]
  },
  {
   "cell_type": "markdown",
   "id": "65575f27",
   "metadata": {
    "id": "65575f27"
   },
   "source": [
    "### Code: Spark"
   ]
  },
  {
   "cell_type": "code",
   "execution_count": 10,
   "id": "782b53bb",
   "metadata": {
    "id": "782b53bb"
   },
   "outputs": [
    {
     "name": "stdout",
     "output_type": "stream",
     "text": [
      "+----------+-----------+\n",
      "|OP_CARRIER|num_flights|\n",
      "+----------+-----------+\n",
      "|        UA|    4826658|\n",
      "|        NK|     588574|\n",
      "|        AA|    6682161|\n",
      "|        NW|     292400|\n",
      "|        EV|    4726445|\n",
      "|        B6|    2483969|\n",
      "|        DL|    7841880|\n",
      "|        OO|    6263052|\n",
      "|        F9|     903218|\n",
      "|        YV|    1063558|\n",
      "|        US|    2657286|\n",
      "|        MQ|    3216260|\n",
      "|        OH|     577060|\n",
      "|        HA|     744991|\n",
      "|        XE|    1105864|\n",
      "|        G4|      96221|\n",
      "|        YX|     316090|\n",
      "|        AS|    1660539|\n",
      "|        FL|    1218389|\n",
      "|        CO|     740498|\n",
      "+----------+-----------+\n",
      "only showing top 20 rows\n",
      "\n",
      "Runtime = 104.44895696640015\n"
     ]
    }
   ],
   "source": [
    "start_time = time.time()\n",
    "\n",
    "flightsSchema = StructType([\n",
    "    StructField(\"FL_DATE\", DateType()),\n",
    "    StructField(\"OP_CARRIER\", StringType()),\n",
    "    StructField(\"OP_CARRIER_FL_NUM\", IntegerType()),\n",
    "    StructField(\"ORIGIN\", StringType()),\n",
    "    StructField(\"DEST\", StringType()),\n",
    "    StructField(\"CRS_DEP_TIME\", StringType()),\n",
    "    StructField(\"DEP_TIME\", StringType()),\n",
    "    StructField(\"DEP_DELAY\", IntegerType()),\n",
    "    StructField(\"TAXI_OUT\", IntegerType()),\n",
    "    StructField(\"WHEELS_OFF\", StringType()),\n",
    "    StructField(\"WHEELS_ON\", StringType()),\n",
    "    StructField(\"TAXI_IN\", IntegerType()),\n",
    "    StructField(\"CRS_ARR_TIME\", StringType()),\n",
    "    StructField(\"ARR_TIME\", StringType()),\n",
    "    StructField(\"ARR_DELAY\", IntegerType()),\n",
    "    StructField(\"CANCELLED\", IntegerType()),\n",
    "    StructField(\"CANCELLATION_CODE\", StringType()),\n",
    "    StructField(\"DIVERTED\", IntegerType()),\n",
    "    StructField(\"CRS_ELAPSED_TIME\", IntegerType()),\n",
    "    StructField(\"ACTUAL_ELAPSED_TIME\", IntegerType()),\n",
    "    StructField(\"AIR_TIME\", IntegerType()),\n",
    "    StructField(\"DISTANCE\", IntegerType()),\n",
    "    StructField(\"CARRIER_DELAY\", IntegerType()),\n",
    "    StructField(\"WEATHER_DELAY\", IntegerType()),\n",
    "    StructField(\"NAS_DELAY\", IntegerType()),\n",
    "    StructField(\"SECURITY_DELAY\", IntegerType()),\n",
    "    StructField(\"LATE_AIRCRAFT_DELAY\", IntegerType())\n",
    "    ])\n",
    "\n",
    "flightsDF = spark.read.option(\"header\", True).schema(flightsSchema).csv(FLIGHTS_FILENAME)\n",
    "\n",
    "flightsDF.createOrReplaceTempView(\"flights_new\")\n",
    "\n",
    "result = spark.sql(\"SELECT OP_CARRIER, count(*) AS num_flights FROM flights_new GROUP BY OP_CARRIER\")\n",
    "result.show()\n",
    "\n",
    "end_time = time.time()\n",
    "print( \"Runtime = \" + str(end_time - start_time))\n",
    "\n"
   ]
  },
  {
   "cell_type": "markdown",
   "id": "393ed265",
   "metadata": {
    "id": "393ed265"
   },
   "source": [
    "* Execution time for sample.csv: <b>6.0630</b>\n",
    "* Execution time for complete.csv: <b>105.2344</b>\n",
    "\n",
    "Using GPU @ Colab (go to Execution time menu and change the type of execution time to include GPU):\n",
    "\n",
    "* Execution time for sample.csv: <b>10.7719</b>\n",
    "* Execution time for complete.csv: <b>199.7952</b>\n"
   ]
  },
  {
   "cell_type": "markdown",
   "id": "13e0b6a7",
   "metadata": {
    "id": "13e0b6a7"
   },
   "source": [
    "### Code: Pandas library"
   ]
  },
  {
   "cell_type": "code",
   "execution_count": 22,
   "id": "bd002811",
   "metadata": {
    "id": "bd002811"
   },
   "outputs": [
    {
     "name": "stdout",
     "output_type": "stream",
     "text": [
      "             FL_DATE\n",
      "OP_CARRIER          \n",
      "9E           1066251\n",
      "AA           6682161\n",
      "AS           1660539\n",
      "B6           2483969\n",
      "CO            740498\n",
      "DL           7841880\n",
      "EV           4726445\n",
      "F9            903218\n",
      "FL           1218389\n",
      "G4             96221\n",
      "HA            744991\n",
      "MQ           3216260\n",
      "NK            588574\n",
      "NW            292400\n",
      "OH            577060\n",
      "OO           6263052\n",
      "UA           4826658\n",
      "US           2657286\n",
      "VX            389060\n",
      "WN          12096540\n",
      "XE           1105864\n",
      "YV           1063558\n",
      "YX            316090\n",
      "Runtime = 1502.589280128479\n"
     ]
    }
   ],
   "source": [
    "import pandas as pd\n",
    "import time\n",
    "\n",
    "start_time = time.time()\n",
    "mySchema = {\"FL_DATE\": \"str\",\n",
    "            \"OP_CARRIER\": \"str\",\n",
    "            \"OP_CARRIER_FL_NUM\":\"Int64\",\n",
    "            \"ORIGIN\":\"str\",\n",
    "            \"DEST\":\"str\",\n",
    "            \"CRS_DEP_TIME\":\"str\",\n",
    "            \"DEP_TIME\":\"str\",\n",
    "            \"DEP_DELAY\":\"Int64\",\n",
    "            \"TAXI_OUT\":\"Int64\",\n",
    "            \"WHEELS_OFF\":\"str\",\n",
    "            \"WHEELS_ON\":\"str\",\n",
    "            \"TAXI_IN\":\"Int64\",\n",
    "            \"CRS_ARR_TIME\":\"str\",\n",
    "            \"ARR_TIME\":\"str\",\n",
    "            \"ARR_DELAY\":\"Int64\",\n",
    "            \"CANCELLED\":\"Int64\",\n",
    "            \"CANCELLATION_CODE\":\"str\",\n",
    "            \"DIVERTED\":\"Int64\",\n",
    "            \"CRS_ELAPSED_TIME\":\"Int64\",\n",
    "            \"ACTUAL_ELAPSED_TIME\":\"Int64\",\n",
    "            \"AIR_TIME\":\"Int64\",\n",
    "            \"DISTANCE\":\"Int64\",\n",
    "            \"CARRIER_DELAY\":\"Int64\",\n",
    "            \"WEATHER_DELAY\":\"Int64\",\n",
    "            \"NAS_DELAY\":\"Int64\",\n",
    "            \"SECURITY_DELAY\":\"Int64\",\n",
    "            \"LATE_AIRCRAFT_DELAY\":\"Int64\"\n",
    "           }\n",
    "\n",
    "dataframe = pd.read_csv(FLIGHTS_FILENAME,dtype=mySchema)\n",
    "result = dataframe[[\"FL_DATE\",\"OP_CARRIER\"]].groupby(\"OP_CARRIER\").count()\n",
    "print(result)\n",
    "\n",
    "end_time = time.time()\n",
    "\n",
    "print( \"Runtime = \" + str(end_time - start_time))\n"
   ]
  },
  {
   "cell_type": "markdown",
   "id": "5c51c285",
   "metadata": {
    "id": "5c51c285"
   },
   "source": [
    "* Execution time for sample.csv: <b>27.5704</b>\n",
    "* Execution time for complete.csv: <b>1502.5893</b>"
   ]
  },
  {
   "cell_type": "markdown",
   "id": "7bf0588a",
   "metadata": {
    "id": "7bf0588a"
   },
   "source": [
    "**Discuss the results you have obtained:**\n",
    "Using Spark to read dataframes and perform dataframe queries is significantly faster than Pandas as Pandas dataframes are not distributed whereas Spark dataframes are. This means that for large amounts of data, such as with the flights dataframes, one benefits from parallel processing using Spark which translates into faster processing of data. "
   ]
  },
  {
   "cell_type": "markdown",
   "id": "37d86190",
   "metadata": {
    "id": "37d86190"
   },
   "source": [
    "## Problem 1 [4 points]\n",
    "\n",
    "In this first problem, you should compute a set of statistics on the data.\n"
   ]
  },
  {
   "cell_type": "markdown",
   "id": "af46f81e",
   "metadata": {
    "id": "af46f81e"
   },
   "source": [
    "### Top-20 airports with more flights (include the name of the airport)"
   ]
  },
  {
   "cell_type": "code",
   "execution_count": 10,
   "id": "4150f6af",
   "metadata": {
    "id": "4150f6af"
   },
   "outputs": [
    {
     "name": "stdout",
     "output_type": "stream",
     "text": [
      "Top 20 airports with more flights departing\n"
     ]
    },
    {
     "name": "stderr",
     "output_type": "stream",
     "text": [
      "/opt/anaconda3/lib/python3.7/site-packages/pyspark/sql/pandas/conversion.py:87: UserWarning: toPandas attempted Arrow optimization because 'spark.sql.execution.arrow.pyspark.enabled' is set to true; however, failed by the reason below:\n",
      "  PyArrow >= 1.0.0 must be installed; however, it was not found.\n",
      "Attempting non-optimization as 'spark.sql.execution.arrow.pyspark.fallback.enabled' is set to true.\n",
      "  warnings.warn(msg)\n"
     ]
    },
    {
     "name": "stdout",
     "output_type": "stream",
     "text": [
      "    CODE                                               NAME  N_OF_DEPARTURES\n",
      "21   ATL   Hartsfield Jackson Atlanta International Airport           147589\n",
      "256  ORD               Chicago O'Hare International Airport           115049\n",
      "95   DFW            Dallas Fort Worth International Airport            95641\n",
      "94   DEN                       Denver International Airport            89928\n",
      "195  LAX                  Los Angeles International Airport            83685\n",
      "271  PHX           Phoenix Sky Harbor International Airport            63831\n",
      "167  IAH       George Bush Intercontinental Houston Airport            63593\n",
      "316  SFO                San Francisco International Airport            63054\n",
      "193  LAS                     McCarran International Airport            55333\n",
      "241  MSP  Minneapolis-St Paul International/Wold-Chamber...            51510\n",
      "103  DTW          Detroit Metropolitan Wayne County Airport            50049\n",
      "74   CLT            Charlotte Douglas International Airport            49649\n",
      "314  SEA               Seattle Tacoma International Airport            49358\n",
      "218  MCO                      Orlando International Airport            47001\n",
      "44   BOS  General Edward Lawrence Logan International Ai...            45297\n",
      "325  SLC               Salt Lake City International Airport            44270\n",
      "116  EWR               Newark Liberty International Airport            44131\n",
      "185  JFK               John F Kennedy International Airport            41925\n",
      "204  LGA                                 La Guardia Airport            39882\n",
      "56   BWI  Baltimore/Washington International Thurgood Ma...            39311\n",
      "\n",
      "\n",
      "Top 20 airports with more flights arriving\n"
     ]
    },
    {
     "name": "stderr",
     "output_type": "stream",
     "text": [
      "/opt/anaconda3/lib/python3.7/site-packages/pyspark/sql/pandas/conversion.py:87: UserWarning: toPandas attempted Arrow optimization because 'spark.sql.execution.arrow.pyspark.enabled' is set to true; however, failed by the reason below:\n",
      "  PyArrow >= 1.0.0 must be installed; however, it was not found.\n",
      "Attempting non-optimization as 'spark.sql.execution.arrow.pyspark.fallback.enabled' is set to true.\n",
      "  warnings.warn(msg)\n"
     ]
    },
    {
     "name": "stdout",
     "output_type": "stream",
     "text": [
      "    CODE                                               NAME  N_OF_ARRIVALS\n",
      "21   ATL   Hartsfield Jackson Atlanta International Airport         147555\n",
      "256  ORD               Chicago O'Hare International Airport         115041\n",
      "95   DFW            Dallas Fort Worth International Airport          95613\n",
      "94   DEN                       Denver International Airport          89927\n",
      "195  LAX                  Los Angeles International Airport          83684\n",
      "271  PHX           Phoenix Sky Harbor International Airport          63830\n",
      "167  IAH       George Bush Intercontinental Houston Airport          63613\n",
      "316  SFO                San Francisco International Airport          63041\n",
      "193  LAS                     McCarran International Airport          55340\n",
      "241  MSP  Minneapolis-St Paul International/Wold-Chamber...          51461\n",
      "103  DTW          Detroit Metropolitan Wayne County Airport          50035\n",
      "74   CLT            Charlotte Douglas International Airport          49602\n",
      "314  SEA               Seattle Tacoma International Airport          49366\n",
      "218  MCO                      Orlando International Airport          46994\n",
      "44   BOS  General Edward Lawrence Logan International Ai...          45308\n",
      "325  SLC               Salt Lake City International Airport          44260\n",
      "116  EWR               Newark Liberty International Airport          44199\n",
      "185  JFK               John F Kennedy International Airport          41923\n",
      "204  LGA                                 La Guardia Airport          39878\n",
      "56   BWI  Baltimore/Washington International Thurgood Ma...          39310\n"
     ]
    }
   ],
   "source": [
    "dfTop20AirportsDepartures = spark.sql(\"SELECT f.ORIGIN AS CODE, a.name AS NAME FROM flights f INNER JOIN airports a ON f.ORIGIN = a.iata_code\")\n",
    "print(\"Top 20 airports with more flights departing\")\n",
    "dfTop20AirportsDepartures = dfTop20AirportsDepartures.toPandas()\n",
    "groupedDfTop20AirportsDepartures = dfTop20AirportsDepartures.groupby([\"CODE\", \"NAME\"]).size().reset_index(name=\"N_OF_DEPARTURES\")\n",
    "print(groupedDfTop20AirportsDepartures.sort_values(by=[\"N_OF_DEPARTURES\"], ascending=False)[:20])\n",
    "\n",
    "dfTop20AirportsArriving = spark.sql(\"SELECT f.DEST AS CODE, a.name AS NAME FROM flights f INNER JOIN airports a ON f.DEST = a.iata_code\")\n",
    "print(\"\\n\\nTop 20 airports with more flights arriving\")\n",
    "dfTop20AirportsArriving = dfTop20AirportsArriving.toPandas()\n",
    "groupedDfTop20AirportsArriving = dfTop20AirportsArriving.groupby([\"CODE\", \"NAME\"]).size().reset_index(name=\"N_OF_ARRIVALS\")\n",
    "print(groupedDfTop20AirportsArriving.sort_values(by=[\"N_OF_ARRIVALS\"], ascending=False)[:20])\n"
   ]
  },
  {
   "cell_type": "markdown",
   "id": "b31863ee",
   "metadata": {
    "id": "b31863ee"
   },
   "source": [
    "### Top-20 days with more flights"
   ]
  },
  {
   "cell_type": "code",
   "execution_count": 19,
   "id": "17444e94",
   "metadata": {
    "id": "17444e94"
   },
   "outputs": [
    {
     "name": "stdout",
     "output_type": "stream",
     "text": [
      "Top 20 days with more flights\n"
     ]
    },
    {
     "name": "stderr",
     "output_type": "stream",
     "text": [
      "/opt/anaconda3/lib/python3.7/site-packages/pyspark/sql/pandas/conversion.py:87: UserWarning: toPandas attempted Arrow optimization because 'spark.sql.execution.arrow.pyspark.enabled' is set to true; however, failed by the reason below:\n",
      "  PyArrow >= 1.0.0 must be installed; however, it was not found.\n",
      "Attempting non-optimization as 'spark.sql.execution.arrow.pyspark.fallback.enabled' is set to true.\n",
      "  warnings.warn(msg)\n"
     ]
    },
    {
     "name": "stdout",
     "output_type": "stream",
     "text": [
      "          DATE  N_OF_FLIGHTS\n",
      "0   2018-07-13         22022\n",
      "1   2018-07-12         21966\n",
      "2   2018-07-09         21956\n",
      "3   2018-07-11         21736\n",
      "4   2018-07-10         21628\n",
      "5   2018-07-15         21262\n",
      "6   2018-07-08         21251\n",
      "7   2018-07-06         20393\n",
      "8   2018-07-01         19985\n",
      "9   2018-07-02         19727\n",
      "10  2018-07-05         19649\n",
      "11  2009-07-10         19425\n",
      "12  2009-07-02         19399\n",
      "13  2013-07-12         19391\n",
      "14  2009-07-09         19377\n",
      "15  2009-07-06         19362\n",
      "16  2013-07-08         19361\n",
      "17  2009-07-13         19356\n",
      "18  2013-07-15         19354\n",
      "19  2013-07-11         19349\n"
     ]
    }
   ],
   "source": [
    "dfTop20DaysWithMoreFlights = spark.sql(\"SELECT FL_DATE AS DATE, COUNT(*) as N_OF_FLIGHTS from flights GROUP BY FL_DATE ORDER BY COUNT(*) DESC LIMIT 20\")\n",
    "print(\"Top 20 days with more flights\")\n",
    "print(dfTop20DaysWithMoreFlights.toPandas())"
   ]
  },
  {
   "cell_type": "markdown",
   "id": "66b96cde",
   "metadata": {
    "id": "66b96cde"
   },
   "source": [
    "### Periods with more flights: morning (00:00-11:59, midday 12:00-17:59, evening 18:00-23:59)"
   ]
  },
  {
   "cell_type": "code",
   "execution_count": 36,
   "id": "66e9f1b8",
   "metadata": {
    "id": "66e9f1b8"
   },
   "outputs": [
    {
     "name": "stdout",
     "output_type": "stream",
     "text": [
      "Periods (morning, midday and evening) and their number of scheduled flights\n",
      "+-------+------------+\n",
      "|Morning|N_OF_FLIGHTS|\n",
      "+-------+------------+\n",
      "|Morning|      981231|\n",
      "+-------+------------+\n",
      "\n",
      "+------+------------+\n",
      "|Midday|N_OF_FLIGHTS|\n",
      "+------+------------+\n",
      "|Midday|      865053|\n",
      "+------+------------+\n",
      "\n",
      "+-------+------------+\n",
      "|Evening|N_OF_FLIGHTS|\n",
      "+-------+------------+\n",
      "|Evening|      517320|\n",
      "+-------+------------+\n",
      "\n",
      "Periods (morning, midday and evening) and their number of flights that actually departed\n",
      "+-------+------------+\n",
      "|Morning|N_OF_FLIGHTS|\n",
      "+-------+------------+\n",
      "|Morning|      969080|\n",
      "+-------+------------+\n",
      "\n",
      "+------+------------+\n",
      "|Midday|N_OF_FLIGHTS|\n",
      "+------+------------+\n",
      "|Midday|      824862|\n",
      "+------+------------+\n",
      "\n",
      "+-------+------------+\n",
      "|Evening|N_OF_FLIGHTS|\n",
      "+-------+------------+\n",
      "|Evening|      539024|\n",
      "+-------+------------+\n",
      "\n"
     ]
    }
   ],
   "source": [
    "print(\"Periods (morning, midday and evening) and their number of scheduled flights\")\n",
    "\n",
    "dfMorningFlights = spark.sql(\"SELECT 'Morning', COUNT(*) as N_OF_FLIGHTS from flights WHERE CRS_DEP_TIME >= '00:00' AND CRS_DEP_TIME <= '11:59'\")\n",
    "dfMorningFlights.show()\n",
    "\n",
    "dfMiddayFlights = spark.sql(\"SELECT 'Midday', COUNT(*) as N_OF_FLIGHTS from flights WHERE CRS_DEP_TIME >= '12:00' AND CRS_DEP_TIME <= '17:59'\")\n",
    "dfMiddayFlights.show()\n",
    "\n",
    "dfEveningFlights = spark.sql(\"SELECT 'Evening', COUNT(*) as N_OF_FLIGHTS from flights WHERE CRS_DEP_TIME >= '18:00' AND CRS_DEP_TIME <= '23:59'\")\n",
    "dfEveningFlights.show()\n",
    "\n",
    "\n",
    "print(\"Periods (morning, midday and evening) and their number of flights that actually departed\")\n",
    "\n",
    "dfMorningFlights = spark.sql(\"SELECT 'Morning', COUNT(*) as N_OF_FLIGHTS from flights WHERE DEP_TIME >= '00:00' AND DEP_TIME <= '11:59'\")\n",
    "dfMorningFlights.show()\n",
    "\n",
    "dfMiddayFlights = spark.sql(\"SELECT 'Midday', COUNT(*) as N_OF_FLIGHTS from flights WHERE DEP_TIME >= '12:00' AND DEP_TIME <= '17:59'\")\n",
    "dfMiddayFlights.show()\n",
    "\n",
    "dfEveningFlights = spark.sql(\"SELECT 'Evening', COUNT(*) as N_OF_FLIGHTS from flights WHERE DEP_TIME >= '18:00' AND DEP_TIME <= '23:59'\")\n",
    "dfEveningFlights.show()\n"
   ]
  },
  {
   "cell_type": "markdown",
   "id": "f9807206",
   "metadata": {
    "id": "f9807206"
   },
   "source": [
    "### Top-20 airports with longer delays"
   ]
  },
  {
   "cell_type": "code",
   "execution_count": 66,
   "id": "0c1ce622",
   "metadata": {
    "id": "0c1ce622"
   },
   "outputs": [
    {
     "name": "stdout",
     "output_type": "stream",
     "text": [
      "Top 20 airports with longer average delays for departures\n",
      "CODE  NAME                                          \n",
      "HGR   Hagerstown Regional Richard A Henson Field        62.333333\n",
      "IFP   Laughlin Bullhead International Airport           40.800000\n",
      "OGD   Ogden Hinckley Airport                            38.250000\n",
      "UST   Northeast Florida Regional Airport                34.500000\n",
      "BLV   Scott AFB/Midamerica Airport                      33.529412\n",
      "HYA   Barnstable Municipal Boardman Polando Field       33.293333\n",
      "CEC   Jack Mc Namara Field Airport                      32.753555\n",
      "LCK   Rickenbacker International Airport                30.558824\n",
      "PSM   Portsmouth International at Pease Airport         29.312500\n",
      "SLN   Salina Municipal Airport                          29.162162\n",
      "OTH   Southwest Oregon Regional Airport                 25.108974\n",
      "MVY   Martha's Vineyard Airport                         24.548780\n",
      "CKB   North Central West Virginia Airport               24.189189\n",
      "GCK   Garden City Regional Airport                      22.600000\n",
      "TTN   Trenton Mercer Airport                            22.324812\n",
      "USA   Concord-Padgett Regional Airport                  21.615385\n",
      "PIB   Hattiesburg Laurel Regional Airport               21.428571\n",
      "SCK   Stockton Metropolitan Airport                     21.058824\n",
      "PIE   St Petersburg Clearwater International Airport    20.516129\n",
      "SHD   Shenandoah Valley Regional Airport                20.050000\n",
      "Name: AVG_DELAY, dtype: float64\n",
      "\n",
      "\n",
      "Top 20 airports with longer average delays for arrivals\n",
      "CODE  NAME                                          \n",
      "PIE   St Petersburg Clearwater International Airport    31.729223\n",
      "UST   Northeast Florida Regional Airport                27.529412\n",
      "SFB   Orlando Sanford International Airport             27.048626\n",
      "SHD   Shenandoah Valley Regional Airport                25.625000\n",
      "TTN   Trenton Mercer Airport                            25.529323\n",
      "PGD   Charlotte County Airport                          24.378261\n",
      "PIB   Hattiesburg Laurel Regional Airport               23.812500\n",
      "MEI   Key Field                                         22.703125\n",
      "IFP   Laughlin Bullhead International Airport           21.533333\n",
      "PSE   Mercedita Airport                                 21.306494\n",
      "CEC   Jack Mc Namara Field Airport                      21.004762\n",
      "BLV   Scott AFB/Midamerica Airport                      20.661765\n",
      "ILG   New Castle Airport                                20.434783\n",
      "OGS   Ogdensburg International Airport                  20.000000\n",
      "CKB   North Central West Virginia Airport               19.243243\n",
      "EGE   Eagle County Regional Airport                     18.958904\n",
      "DRT   Del Rio International Airport                     18.200000\n",
      "EWR   Newark Liberty International Airport              17.508541\n",
      "AZA   Phoenix-Mesa-Gateway Airport                      17.400844\n",
      "IAG   Niagara Falls International Airport               17.125000\n",
      "Name: AVG_DELAY, dtype: float64\n"
     ]
    }
   ],
   "source": [
    "dfTop20AirportsLongerDepartureDelays = spark.sql(\"SELECT f.ORIGIN AS CODE, a.name AS NAME, f.DEP_DELAY AS DEPARTURE_DELAY FROM flights f INNER JOIN airports a ON f.ORIGIN = a.iata_code\")\n",
    "dfTop20AirportsLongerDepartureDelays = dfTop20AirportsLongerDepartureDelays.toPandas()\n",
    "groupedDfTop20AirportsLongerDepartureDelays = dfTop20AirportsLongerDepartureDelays.groupby([\"CODE\", \"NAME\"]).sum()\n",
    "groupedDfTop20AirportsLongerDepartureDelays = groupedDfTop20AirportsLongerDepartureDelays.join(groupedDfTop20AirportsDepartures.set_index([\"CODE\", \"NAME\"]))\n",
    "groupedDfTop20AirportsLongerDepartureDelays[\"AVG_DELAY\"] = groupedDfTop20AirportsLongerDepartureDelays[\"DEPARTURE_DELAY\"] / groupedDfTop20AirportsLongerDepartureDelays[\"N_OF_DEPARTURES\"]\n",
    "print(\"Top 20 airports with longer average delays for departures\")\n",
    "groupedDfTop20AirportsLongerDepartureDelaysSorted = groupedDfTop20AirportsLongerDepartureDelays.sort_values(by=[\"AVG_DELAY\"], ascending=False)[:20]\n",
    "print(groupedDfTop20AirportsLongerDepartureDelaysSorted[\"AVG_DELAY\"])\n",
    "\n",
    "dfTop20AirportsLongerArrivalsDelays = spark.sql(\"SELECT f.DEST AS CODE, a.name AS NAME, f.ARR_DELAY AS ARRIVAL_DELAY FROM flights f INNER JOIN airports a ON f.DEST = a.iata_code\")\n",
    "dfTop20AirportsLongerArrivalsDelays = dfTop20AirportsLongerArrivalsDelays.toPandas()\n",
    "groupedDfTop20AirportsLongerArrivalsDelays = dfTop20AirportsLongerArrivalsDelays.groupby([\"CODE\", \"NAME\"]).sum()\n",
    "groupedDfTop20AirportsLongerArrivalsDelays = groupedDfTop20AirportsLongerArrivalsDelays.join(groupedDfTop20AirportsArriving.set_index([\"CODE\", \"NAME\"]))\n",
    "groupedDfTop20AirportsLongerArrivalsDelays[\"AVG_DELAY\"] = groupedDfTop20AirportsLongerArrivalsDelays[\"ARRIVAL_DELAY\"] / groupedDfTop20AirportsLongerArrivalsDelays[\"N_OF_ARRIVALS\"]\n",
    "print(\"\\n\\nTop 20 airports with longer average delays for arrivals\")\n",
    "groupedDfTop20AirportsLongerArrivalsDelaysSorted = groupedDfTop20AirportsLongerArrivalsDelays.sort_values(by=[\"AVG_DELAY\"], ascending=False)[:20]\n",
    "print(groupedDfTop20AirportsLongerArrivalsDelaysSorted[\"AVG_DELAY\"])\n"
   ]
  },
  {
   "cell_type": "markdown",
   "id": "f39a9e96",
   "metadata": {
    "id": "f39a9e96"
   },
   "source": [
    "### Top 10 carriers with longer delays"
   ]
  },
  {
   "cell_type": "code",
   "execution_count": 86,
   "id": "8859452d",
   "metadata": {
    "id": "8859452d"
   },
   "outputs": [
    {
     "name": "stdout",
     "output_type": "stream",
     "text": [
      "Top 10 carriers with longer average delay for departures\n",
      "+----------+------------+----------------------+--------------------+\n",
      "|OP_CARRIER|N_OF_FLIGHTS|TOTAL_DELAY_DEPARTURES|AVG_DELAY_DEPARTURES|\n",
      "+----------+------------+----------------------+--------------------+\n",
      "|        G4|        5123|                103978|  20.296310755416748|\n",
      "|        B6|       97885|               1609586|  16.443643050518464|\n",
      "|        UA|      192622|               3083528|  16.008181827620938|\n",
      "|        EV|      185522|               2945287|  15.875675122087946|\n",
      "|        F9|       36190|                571738|  15.798231555678365|\n",
      "|        VX|       15862|                236575|   14.91457571554659|\n",
      "|        NK|       25439|                355062|  13.957388262117222|\n",
      "|        WN|      465495|               5829462|  12.523146328102342|\n",
      "|        AA|      266003|               3326410|  12.505159716243801|\n",
      "|        FL|       43105|                521860|  12.106716158218305|\n",
      "+----------+------------+----------------------+--------------------+\n",
      "\n",
      "\n",
      "\n",
      "Top 10 carriers with longer average delay for arrivals\n",
      "+----------+------------+--------------------+------------------+\n",
      "|OP_CARRIER|N_OF_FLIGHTS|TOTAL_DELAY_ARRIVALS|AVG_DELAY_ARRIVALS|\n",
      "+----------+------------+--------------------+------------------+\n",
      "|        G4|        5123|               95327| 18.60765176654304|\n",
      "|        F9|       36190|              519357| 14.35084277424703|\n",
      "|        EV|      185522|             2354454|12.690969265100636|\n",
      "|        B6|       97885|             1221390|12.477805588190224|\n",
      "|        VX|       15862|              174837| 11.02238053208927|\n",
      "|        NK|       25439|              265143|  10.4226974330752|\n",
      "|        FL|       43105|              433538|10.057719522097205|\n",
      "|        AA|      266003|             2363137| 8.883873490148607|\n",
      "|        UA|      192622|             1703314| 8.842780160106322|\n",
      "|        XE|       31772|              280739| 8.836050610600529|\n",
      "+----------+------------+--------------------+------------------+\n",
      "\n"
     ]
    }
   ],
   "source": [
    "dfTop10CarriersWithLongerDelaysDepartures = spark.sql(\"SELECT OP_CARRIER, COUNT(*) AS N_OF_FLIGHTS, SUM(DEP_DELAY) AS TOTAL_DELAY_DEPARTURES, (SUM(DEP_DELAY)/COUNT(*)) AS AVG_DELAY_DEPARTURES FROM flights GROUP BY OP_CARRIER ORDER BY AVG_DELAY_DEPARTURES DESC LIMIT 10\")\n",
    "print(\"Top 10 carriers with longer average delay for departures\")\n",
    "dfTop10CarriersWithLongerDelaysDepartures.show()\n",
    "\n",
    "dfTop10CarriersWithLongerDelaysArrivals = spark.sql(\"SELECT OP_CARRIER, COUNT(*) AS N_OF_FLIGHTS, SUM(ARR_DELAY) AS TOTAL_DELAY_ARRIVALS, (SUM(ARR_DELAY)/COUNT(*)) AS AVG_DELAY_ARRIVALS FROM flights GROUP BY OP_CARRIER ORDER BY AVG_DELAY_ARRIVALS DESC LIMIT 10\")\n",
    "print(\"\\n\\nTop 10 carriers with longer average delay for arrivals\")\n",
    "dfTop10CarriersWithLongerDelaysArrivals.show()\n"
   ]
  },
  {
   "cell_type": "markdown",
   "id": "a4d1a5b6",
   "metadata": {
    "id": "a4d1a5b6"
   },
   "source": [
    "### Longer delays by period: morning (00:00-11:59, midday 12:00-17:59, evening 18:00-23:59)\n"
   ]
  },
  {
   "cell_type": "code",
   "execution_count": 91,
   "id": "1669be19",
   "metadata": {
    "id": "1669be19"
   },
   "outputs": [
    {
     "name": "stdout",
     "output_type": "stream",
     "text": [
      "Average delays by period for departure\n",
      "+-------+------------+-------------------+\n",
      "|Morning|N_OF_FLIGHTS|AVG_DEPARTURE_DELAY|\n",
      "+-------+------------+-------------------+\n",
      "|Morning|      981231|   4.77306363129579|\n",
      "+-------+------------+-------------------+\n",
      "\n",
      "+------+------------+-------------------+\n",
      "|Midday|N_OF_FLIGHTS|AVG_DEPARTURE_DELAY|\n",
      "+------+------------+-------------------+\n",
      "|Midday|      865053| 14.239094020828782|\n",
      "+------+------------+-------------------+\n",
      "\n",
      "+-------+------------+-------------------+\n",
      "|Evening|N_OF_FLIGHTS|AVG_DEPARTURE_DELAY|\n",
      "+-------+------------+-------------------+\n",
      "|Evening|      517320| 19.822545039820614|\n",
      "+-------+------------+-------------------+\n",
      "\n",
      "\n",
      "\n",
      "Average delays by period for arrivals, according to departure time\n",
      "+-------+------------+-----------------+\n",
      "|Morning|N_OF_FLIGHTS|AVG_ARRIVAL_DELAY|\n",
      "+-------+------------+-----------------+\n",
      "|Morning|      981231|0.596434478731308|\n",
      "+-------+------------+-----------------+\n",
      "\n",
      "+------+------------+------------------+\n",
      "|Midday|N_OF_FLIGHTS| AVG_ARRIVAL_DELAY|\n",
      "+------+------------+------------------+\n",
      "|Midday|      865053|10.595639804728728|\n",
      "+------+------------+------------------+\n",
      "\n",
      "+-------+------------+------------------+\n",
      "|Evening|N_OF_FLIGHTS| AVG_ARRIVAL_DELAY|\n",
      "+-------+------------+------------------+\n",
      "|Evening|      517320|15.104386066651202|\n",
      "+-------+------------+------------------+\n",
      "\n"
     ]
    }
   ],
   "source": [
    "print(\"Average delays by period for departure\")\n",
    "\n",
    "dfMorningFlightsDelays = spark.sql(\"SELECT 'Morning', COUNT(*) as N_OF_FLIGHTS, (SUM(DEP_DELAY)/COUNT(*)) AS AVG_DEPARTURE_DELAY from flights WHERE CRS_DEP_TIME >= '00:00' AND CRS_DEP_TIME <= '11:59'\")\n",
    "dfMorningFlightsDelays.show()\n",
    "\n",
    "dfMiddayFlightsDelays = spark.sql(\"SELECT 'Midday', COUNT(*) as N_OF_FLIGHTS, (SUM(DEP_DELAY)/COUNT(*)) AS AVG_DEPARTURE_DELAY from flights WHERE CRS_DEP_TIME >= '12:00' AND CRS_DEP_TIME <= '17:59'\")\n",
    "dfMiddayFlightsDelays.show()\n",
    "\n",
    "dfEveningFlightsDelays = spark.sql(\"SELECT 'Evening', COUNT(*) as N_OF_FLIGHTS, (SUM(DEP_DELAY)/COUNT(*)) AS AVG_DEPARTURE_DELAY from flights WHERE CRS_DEP_TIME >= '18:00' AND CRS_DEP_TIME <= '23:59'\")\n",
    "dfEveningFlightsDelays.show()\n",
    "\n",
    "print(\"\\n\\nAverage delays by period for arrivals, according to departure time\")\n",
    "\n",
    "dfMorningFlightsDelays = spark.sql(\"SELECT 'Morning', COUNT(*) as N_OF_FLIGHTS, (SUM(ARR_DELAY)/COUNT(*)) AS AVG_ARRIVAL_DELAY from flights WHERE CRS_DEP_TIME >= '00:00' AND CRS_DEP_TIME <= '11:59'\")\n",
    "dfMorningFlightsDelays.show()\n",
    "\n",
    "dfMiddayFlightsDelays = spark.sql(\"SELECT 'Midday', COUNT(*) as N_OF_FLIGHTS, (SUM(ARR_DELAY)/COUNT(*)) AS AVG_ARRIVAL_DELAY from flights WHERE CRS_DEP_TIME >= '12:00' AND CRS_DEP_TIME <= '17:59'\")\n",
    "dfMiddayFlightsDelays.show()\n",
    "\n",
    "dfEveningFlightsDelays = spark.sql(\"SELECT 'Evening', COUNT(*) as N_OF_FLIGHTS, (SUM(ARR_DELAY)/COUNT(*)) AS AVG_ARRIVAL_DELAY from flights WHERE CRS_DEP_TIME >= '18:00' AND CRS_DEP_TIME <= '23:59'\")\n",
    "dfEveningFlightsDelays.show()\n"
   ]
  },
  {
   "cell_type": "markdown",
   "id": "cbb581e1",
   "metadata": {
    "id": "cbb581e1"
   },
   "source": [
    "## Problem 2 [4 points]\n",
    "\n",
    "Assume you want to create a web site to help travellers get information about flight delays. The web site would allow a user to find out information about delays for the flight she want to take. \n",
    "The information about delays should include at least 3 statistics - suggestion: the average delay in the same route of the same carrier in the last 7 days, 30 days, 365 days, similar but considering only flights in the same week day, similar but considering flights in the same week day, but excluding holidays, etc.\n",
    "\n",
    "To support this web site, it would be necessary to build one or more indices that would be used to answer the query of the user.\n",
    "\n",
    "Write the code to build these indices - for each index, print 5 lines."
   ]
  },
  {
   "cell_type": "code",
   "execution_count": 447,
   "id": "d1672a83",
   "metadata": {
    "id": "d1672a83"
   },
   "outputs": [],
   "source": [
    "groupedDelays = spark.sql(\"SELECT FL_DATE, FIRST(OP_CARRIER) AS OP_CARRIER, FIRST(ORIGIN) AS ORIGIN, FIRST(DEST) AS DEST, AVG(DEP_DELAY) AS DEP_DELAY from flights GROUP BY FL_DATE, OP_CARRIER, ORIGIN, DEST ORDER BY FL_DATE DESC\")\n",
    "groupedDelays.createOrReplaceTempView(\"grouped_delays\")\n"
   ]
  },
  {
   "cell_type": "code",
   "execution_count": 450,
   "metadata": {},
   "outputs": [
    {
     "name": "stdout",
     "output_type": "stream",
     "text": [
      "+----------+----------+------+----+----------------------+-----------------------+--------------------+\n",
      "|   FL_DATE|OP_CARRIER|ORIGIN|DEST|MovingAverageSevenDays|MovingAverageThirtyDays|MovingAverage365Days|\n",
      "+----------+----------+------+----+----------------------+-----------------------+--------------------+\n",
      "|2018-07-15|        9E|   ACK| LGA|                8.6875|      7.376344086021506| 0.39492258652094714|\n",
      "|2018-07-15|        9E|   ATL| BHM|               10.8375|      6.882795698924731|  0.5411885245901638|\n",
      "|2018-07-15|        9E|   AGS| ATL|                   6.0|      7.521505376344087| 0.42634335154826947|\n",
      "|2018-07-15|        9E|   ATL| AGS|                7.8375|      7.076344086021505| 0.46923952641165745|\n",
      "|2018-07-15|        9E|   ATL| ATW|                9.3375|      7.495698924731183|  0.5211520947176685|\n",
      "+----------+----------+------+----+----------------------+-----------------------+--------------------+\n",
      "only showing top 5 rows\n",
      "\n"
     ]
    }
   ],
   "source": [
    "dfDelaysMA = spark.sql(\"SELECT FL_DATE, FIRST(OP_CARRIER) AS OP_CARRIER, FIRST(ORIGIN) AS ORIGIN, FIRST(DEST) AS DEST, AVG(FIRST(DEP_DELAY)) OVER (ORDER BY FL_DATE ASC ROWS BETWEEN 7 PRECEDING AND CURRENT ROW) AS MovingAverageSevenDays, AVG(FIRST(DEP_DELAY)) OVER (ORDER BY FL_DATE ASC ROWS BETWEEN 30 PRECEDING AND CURRENT ROW) AS MovingAverageThirtyDays, AVG(FIRST(DEP_DELAY)) OVER (ORDER BY FL_DATE ASC ROWS BETWEEN 365 PRECEDING AND CURRENT ROW) AS MovingAverage365Days from grouped_delays GROUP BY FL_DATE, OP_CARRIER, ORIGIN, DEST ORDER BY FL_DATE DESC\")\n",
    "dfDelaysMA.show(5)"
   ]
  },
  {
   "cell_type": "markdown",
   "id": "9204ebac",
   "metadata": {
    "id": "9204ebac"
   },
   "source": [
    "#### Discussion\n",
    "\n",
    "**Explain your code and discuss results**"
   ]
  },
  {
   "cell_type": "markdown",
   "id": "822b0e6d",
   "metadata": {
    "id": "822b0e6d"
   },
   "source": [
    "## Problem 3 [4 points]\n",
    "\n",
    "Transform the flights data to include a class, depending on the delay - SHORT, LONG - depending on whether the departure delay was less than 10 minutes, or greater or equal to 10 minutes.\n",
    "\n",
    "Build and evaluate a classification model for the data.\n"
   ]
  },
  {
   "cell_type": "code",
   "execution_count": 132,
   "id": "6ed0db82",
   "metadata": {
    "id": "6ed0db82"
   },
   "outputs": [],
   "source": [
    "from sklearn import tree\n",
    "from sklearn.model_selection import train_test_split\n",
    "import random\n",
    "from datetime import datetime\n",
    "from sklearn.metrics import confusion_matrix, accuracy_score, f1_score, precision_score, roc_auc_score, recall_score\n",
    "import seaborn as sns\n",
    "from pyspark.sql.types import IntegerType\n",
    "from pyspark.ml.feature import OneHotEncoder, StringIndexer\n",
    "from pyspark.ml.linalg import Vectors\n",
    "from pyspark.ml.feature import VectorAssembler\n",
    "from pyspark.ml.classification import LogisticRegression\n",
    "from pyspark.ml.evaluation import BinaryClassificationEvaluator\n",
    "\n",
    "dfLongShort = spark.sql(\"SELECT FL_DATE, OP_CARRIER, ORIGIN, DEST, CRS_DEP_TIME, DEP_DELAY FROM flights LIMIT 1000000\")\n",
    "\n",
    "#0 is for SHORT delay, 1 is for LONG delay\n",
    "dfLongShort = dfLongShort.withColumn(\"IS_LONG_DELAY\", when(col(\"DEP_DELAY\") < 10, 0).otherwise(1))\n",
    "\n",
    "#Create MONTH column\n",
    "dfLongShort = dfLongShort.withColumn(\"MONTH\", date_format(col(\"FL_DATE\"), \"MM\"))\n",
    "\n",
    "#Create DAY column\n",
    "dfLongShort = dfLongShort.withColumn(\"DAY\", date_format(col(\"FL_DATE\"), \"dd\"))\n",
    "\n",
    "#Cast to Integer MONTH and DAY columns and remove FL_DATE column\n",
    "dfLongShort = dfLongShort.withColumn(\"MONTH\", dfLongShort[\"MONTH\"].cast(IntegerType()))\n",
    "dfLongShort = dfLongShort.withColumn(\"DAY\", dfLongShort[\"DAY\"].cast(IntegerType()))\n",
    "dfLongShort = dfLongShort.drop(\"FL_DATE\")\n",
    "\n",
    "#Create PERIOD Column based on the period of the day the flight was scheduled to\n",
    "dfLongShort = dfLongShort.withColumn(\n",
    "    'PERIOD',\n",
    "    when((col(\"CRS_DEP_TIME\") >= '00:00') & (col(\"CRS_DEP_TIME\") <= '05:59'), 0)\\\n",
    "    .when((col(\"CRS_DEP_TIME\") >= '06:00') & (col(\"CRS_DEP_TIME\") <= '11:59'), 1)\\\n",
    "    .when((col(\"CRS_DEP_TIME\") >= '12:00') & (col(\"CRS_DEP_TIME\") <= '15:59'), 2)\\\n",
    "    .when((col(\"CRS_DEP_TIME\") >= '16:00') & (col(\"CRS_DEP_TIME\") <= '19:59'), 3)\\\n",
    "    .otherwise(4)\n",
    ")\n",
    "\n",
    "\n",
    "dfLongShort = dfLongShort.drop(\"CRS_DEP_TIME\")\n",
    "\n",
    "#Transform string values of OP_CARRIER, ORIGIN and DEST to numerical values so it can be used as features for the model\n",
    "carrier_indexer = StringIndexer(inputCol=\"OP_CARRIER\", outputCol=\"OP_CARRIER_INDEX\")\n",
    "dfLongShort = carrier_indexer.fit(dfLongShort).transform(dfLongShort)\n",
    "origin_indexer = StringIndexer(inputCol=\"ORIGIN\", outputCol=\"ORIGIN_INDEX\")\n",
    "dfLongShort = origin_indexer.fit(dfLongShort).transform(dfLongShort)\n",
    "dest_indexer = StringIndexer(inputCol=\"DEST\", outputCol=\"DEST_INDEX\")\n",
    "dfLongShort = dest_indexer.fit(dfLongShort).transform(dfLongShort)\n",
    "\n",
    "dfLongShort = dfLongShort.drop(\"OP_CARRIER\")\n",
    "dfLongShort = dfLongShort.drop(\"ORIGIN\")\n",
    "dfLongShort = dfLongShort.drop(\"DEST\")\n",
    "\n",
    "#One hot encoder for fields with categorical nature\n",
    "encoder = OneHotEncoder(inputCols=[\"PERIOD\", \"OP_CARRIER_INDEX\", \"ORIGIN_INDEX\", \"DEST_INDEX\"], outputCols=[\"PERIOD_ENCOD\", \"OP_CARRIER_ENCOD\", \"ORIGIN_ENCOD\", \"DEST_ENCOD\"])\n",
    "dfLongShort = encoder.fit(dfLongShort).transform(dfLongShort)\n",
    "\n",
    "#Create array of features and define input and output variables\n",
    "assembler = VectorAssembler(inputCols=[\"MONTH\", \"DAY\", \"PERIOD_ENCOD\", \"OP_CARRIER_ENCOD\", \"ORIGIN_ENCOD\", \"DEST_ENCOD\"], outputCol=\"features\")\n",
    "output = assembler.transform(dfLongShort)\n",
    "output = output.select(col(\"features\"), col(\"IS_LONG_DELAY\").alias(\"label\"))\n",
    "\n",
    "#Split train and test set\n",
    "train, test = output.randomSplit([0.7, 0.3], seed=123)\n"
   ]
  },
  {
   "cell_type": "code",
   "execution_count": 125,
   "metadata": {},
   "outputs": [],
   "source": [
    "logModel = LogisticRegression(labelCol=\"label\").fit(train)"
   ]
  },
  {
   "cell_type": "code",
   "execution_count": 126,
   "metadata": {},
   "outputs": [
    {
     "name": "stdout",
     "output_type": "stream",
     "text": [
      "Accuracy Score for Logistic Regression (Training Set): 0.7472097272781866\n",
      "ROC-AUC Score for Logistic Regression (Training Set): 0.6857530376240283\n",
      "Weighted F1-Score for Logistic Regression (Training Set): 0.6638056596856362\n"
     ]
    }
   ],
   "source": [
    "summary = logModel.summary\n",
    "\n",
    "print(f\"Accuracy Score for Logistic Regression (Training Set): {summary.accuracy}\")\n",
    "print(f\"ROC-AUC Score for Logistic Regression (Training Set): {summary.areaUnderROC}\")\n",
    "print(f\"Weighted F1-Score for Logistic Regression (Training Set): {summary.weightedFMeasure()}\")"
   ]
  },
  {
   "cell_type": "code",
   "execution_count": 127,
   "metadata": {},
   "outputs": [],
   "source": [
    "pred = logModel.evaluate(test)"
   ]
  },
  {
   "cell_type": "code",
   "execution_count": 128,
   "metadata": {},
   "outputs": [
    {
     "name": "stdout",
     "output_type": "stream",
     "text": [
      "Accuracy Score for Logistic Regression (Test Set): 0.747446824082021\n",
      "ROC Score for Logistic Regression (Test Set): 0.6818898143357056\n",
      "Weighted F1-Score for Logistic Regression (Test Set): 0.6641627463422044\n"
     ]
    }
   ],
   "source": [
    "print(f\"Accuracy Score for Logistic Regression (Test Set): {pred.accuracy}\")\n",
    "print(f\"ROC Score for Logistic Regression (Test Set): {pred.areaUnderROC}\")\n",
    "print(f\"Weighted F1-Score for Logistic Regression (Test Set): {pred.weightedFMeasure()}\")"
   ]
  },
  {
   "cell_type": "markdown",
   "id": "9f5c396f",
   "metadata": {
    "id": "9f5c396f"
   },
   "source": [
    "#### Discussion\n",
    "\n",
    "**Explain your code and discuss results**"
   ]
  },
  {
   "cell_type": "markdown",
   "id": "e53677c5",
   "metadata": {
    "id": "e53677c5"
   },
   "source": [
    "## Problem 4 [4 points]\n",
    "\n",
    "Consider we want to cluster airports depending on their properties, such as average number of flights per day, delays, cancellations, etc.\n",
    "\n",
    "Measure the quality of your clustering result."
   ]
  },
  {
   "cell_type": "code",
   "execution_count": 331,
   "id": "9338a0a3",
   "metadata": {
    "id": "9338a0a3"
   },
   "outputs": [
    {
     "name": "stdout",
     "output_type": "stream",
     "text": [
      "+----+--------------------+------------------+-----------------+-------------------+-------------------+----------+--------------------+\n",
      "|CODE|                NAME|   FLIGHTS_PER_DAY|FLIGHTS_CANCELLED|FLIGHT_DURATION_AVG|FLIGHT_DISTANCE_AVG|TYPE_INDEX|            features|\n",
      "+----+--------------------+------------------+-----------------+-------------------+-------------------+----------+--------------------+\n",
      "| BGM|Greater Binghamto...| 2.447619047619048|                6|   62.1394422310757|              378.0|       0.0|[2.44761904761904...|\n",
      "| DLG|  Dillingham Airport|               1.0|                1|  50.46616541353384|              329.0|       0.0|[1.0,1.0,50.46616...|\n",
      "| INL|Falls Internation...|1.8666666666666667|                1|   39.7030303030303| 211.46428571428572|       0.0|[1.86666666666666...|\n",
      "| PSE|   Mercedita Airport|2.8444444444444446|               15| 171.78048780487805|       1333.0859375|       0.0|[2.84444444444444...|\n",
      "| MSY|Louis Armstrong N...|116.14074074074074|              154| 101.13214862681745|  721.3224057656738|       1.0|[116.140740740740...|\n",
      "| PPG|Pago Pago Interna...|               1.0|                0| 309.27777777777777|             2599.0|       0.0|[1.0,0.0,309.2777...|\n",
      "| DRT|Del Rio Internati...|               2.0|                3| 58.370370370370374|              339.0|       0.0|[2.0,3.0,58.37037...|\n",
      "| GEG|Spokane Internati...| 32.11851851851852|               20|  93.41045296167248|   677.147832103321|       1.0|[32.1185185185185...|\n",
      "| BUR|    Bob Hope Airport| 66.92592592592592|              163|  69.33246753246753|  468.3941339236303|       0.0|[66.9259259259259...|\n",
      "| SNA|John Wayne Airpor...|115.04444444444445|              189| 108.02584740217249|  799.1314145901745|       1.0|[115.044444444444...|\n",
      "| GRB|Austin Straubel I...|14.437037037037037|               37|  46.12970711297071| 254.82298614674193|       1.0|[14.4370370370370...|\n",
      "| GTF|Great Falls Inter...| 6.377777777777778|                7|  86.11515863689776|  612.8164924506387|       0.0|[6.37777777777777...|\n",
      "| IFP|Laughlin Bullhead...|               1.0|                0|  39.13333333333333|              188.0|       2.0|[1.0,0.0,39.13333...|\n",
      "| IDA|Idaho Falls Regio...| 8.437037037037037|               10|  50.53989361702128| 307.07462686567163|       0.0|[8.43703703703703...|\n",
      "| GRR|Gerald R. Ford In...|              33.2|               82|  70.06575342465753| 448.94399821508256|       0.0|[33.2,82.0,70.065...|\n",
      "| LWB|Greenbrier Valley...|1.9074074074074074|                6|               46.0|  252.0873786407767|       0.0|[1.90740740740740...|\n",
      "| JLN|Joplin Regional A...| 2.038095238095238|                3| 55.576190476190476|              327.0|       1.0|[2.03809523809523...|\n",
      "| PVU|Provo Municipal A...|               1.6|                0|  71.33333333333333|  492.3333333333333|       0.0|[1.6,0.0,71.33333...|\n",
      "| EUG|  Mahlon Sweet Field|13.748148148148148|               34|  81.58103638368247|  551.6390086206897|       0.0|[13.7481481481481...|\n",
      "| PSG|Petersburg James ...|               2.0|                1|  19.48507462686567|               77.0|       0.0|[2.0,1.0,19.48507...|\n",
      "+----+--------------------+------------------+-----------------+-------------------+-------------------+----------+--------------------+\n",
      "only showing top 20 rows\n",
      "\n"
     ]
    }
   ],
   "source": [
    "from pyspark.ml.clustering import KMeans\n",
    "from pyspark.ml.evaluation import ClusteringEvaluator\n",
    "from pyspark.ml.feature import StandardScaler\n",
    "from pyspark.ml.feature import PCA\n",
    "\n",
    "# dfAirports = spark.sql(\"SELECT f.ORIGIN AS CODE, FIRST(a.name) AS NAME, FIRST(a.type) AS TYPE, FIRST(a.iso_region) as REGION, COUNT(f.ORIGIN) AS NUM_OF_FLIGHTS, SUM(f.CANCELLED)/COUNT(f.ORIGIN) AS FLIGHTS_CANCELLED_PCTG, AVG(f.AIR_TIME) AS FLIGHT_DURATION_AVG FROM flights f INNER JOIN airports a ON f.ORIGIN = a.iata_code GROUP BY CODE\")\n",
    "dfAirports = spark.sql(\"SELECT f.ORIGIN AS CODE, FIRST(a.name) AS NAME, FIRST(a.type) AS TYPE, COUNT(f.ORIGIN)/COUNT(DISTINCT f.FL_DATE) AS FLIGHTS_PER_DAY, SUM(f.CANCELLED) AS FLIGHTS_CANCELLED, AVG(f.AIR_TIME) AS FLIGHT_DURATION_AVG, AVG(f.DISTANCE) AS FLIGHT_DISTANCE_AVG FROM flights f INNER JOIN airports a ON f.ORIGIN = a.iata_code GROUP BY CODE LIMIT 100\")\n",
    "\n",
    "type_indexer = StringIndexer(inputCol=\"TYPE\", outputCol=\"TYPE_INDEX\")\n",
    "dfAirports = type_indexer.fit(dfAirports).transform(dfAirports)\n",
    "\n",
    "dfAirports = dfAirports.drop(\"TYPE\")\n",
    "\n",
    "assembler = VectorAssembler(inputCols=[\"FLIGHTS_PER_DAY\", \"FLIGHTS_CANCELLED\", \"FLIGHT_DURATION_AVG\", \"FLIGHT_DISTANCE_AVG\"], outputCol=\"features\")\n",
    "output = assembler.transform(dfAirports)\n",
    "\n",
    "output.show()\n"
   ]
  },
  {
   "cell_type": "code",
   "execution_count": 332,
   "metadata": {},
   "outputs": [],
   "source": [
    "scaler = StandardScaler(inputCol=\"features\", outputCol=\"features_scaled\", withStd=True, withMean=False)\n",
    "scaled_output = scaler.fit(output).transform(output)\n",
    "scaled_output = scaled_output.drop(\"FLIGHTS_PER_DAY\")\n",
    "scaled_output = scaled_output.drop(\"FLIGHTS_CANCELLED\")\n",
    "scaled_output = scaled_output.drop(\"FLIGHT_DURATION_AVG\")\n",
    "scaled_output = scaled_output.drop(\"FLIGHT_DISTANCE_AVG\")\n",
    "\n",
    "pca = PCA(k=2, inputCol=\"features_scaled\", outputCol=\"final_features\")\n",
    "\n",
    "model = pca.fit(scaled_output)\n",
    "model_transformed = model.transform(scaled_output)"
   ]
  },
  {
   "cell_type": "code",
   "execution_count": 312,
   "metadata": {},
   "outputs": [],
   "source": [
    "final_pandas = model_transformed.toPandas()"
   ]
  },
  {
   "cell_type": "code",
   "execution_count": 343,
   "metadata": {},
   "outputs": [
    {
     "data": {
      "text/plain": [
       "<matplotlib.collections.PathCollection at 0x1a1baa9a90>"
      ]
     },
     "execution_count": 343,
     "metadata": {},
     "output_type": "execute_result"
    },
    {
     "data": {
      "image/png": "[encoded data removed]",
      "text/plain": [
       "<Figure size 576x396 with 1 Axes>"
      ]
     },
     "metadata": {},
     "output_type": "display_data"
    }
   ],
   "source": [
    "final_array = final_pandas[\"final_features\"]\n",
    "final_types = final_pandas[\"TYPE_INDEX\"]\n",
    "x = [item[0] if item[0] > -8 and item[1] > -6 else np.nan for item in final_array]\n",
    "y = [item[1] if item[0] > -8 and item[1] > -6 else np.nan for item in final_array]\n",
    "\n",
    "targets = final_pandas[\"TYPE_INDEX\"].unique()\n",
    "\n",
    "plt.scatter(x, y, c = final_types, s = 20)"
   ]
  },
  {
   "cell_type": "markdown",
   "id": "953bacbe",
   "metadata": {
    "id": "953bacbe"
   },
   "source": [
    "#### Discussion\n",
    "\n",
    "**Explain your code and discuss results**"
   ]
  },
  {
   "cell_type": "markdown",
   "id": "1f71dae3",
   "metadata": {
    "id": "1f71dae3"
   },
   "source": [
    "## Problem 5 [3 points]\n",
    "\n",
    "We now want to find communities of airports, i.e., airports that are connected based on the flights that exist.\n",
    "\n",
    "Propose an algorithm to solve this problem and plot the communities as a graph. Run the program with and without GPU support."
   ]
  },
  {
   "cell_type": "code",
   "execution_count": 399,
   "metadata": {},
   "outputs": [],
   "source": [
    "from graphframes import *\n",
    "from graphframes.examples import Graphs\n",
    "from pyspark import *\n",
    "from pyspark.sql import *"
   ]
  },
  {
   "cell_type": "code",
   "execution_count": 366,
   "id": "a523508e",
   "metadata": {
    "id": "a523508e"
   },
   "outputs": [
    {
     "name": "stdout",
     "output_type": "stream",
     "text": [
      "+-------+\n",
      "|AIRPORT|\n",
      "+-------+\n",
      "|    BGM|\n",
      "|    DLG|\n",
      "|    PSE|\n",
      "|    INL|\n",
      "|    MSY|\n",
      "|    PPG|\n",
      "|    GEG|\n",
      "|    DRT|\n",
      "|    BUR|\n",
      "|    SNA|\n",
      "|    GRB|\n",
      "|    GTF|\n",
      "|    IFP|\n",
      "|    IDA|\n",
      "|    GRR|\n",
      "|    LWB|\n",
      "|    JLN|\n",
      "|    PVU|\n",
      "|    PSG|\n",
      "|    EUG|\n",
      "+-------+\n",
      "only showing top 20 rows\n",
      "\n"
     ]
    }
   ],
   "source": [
    "originsDistinct = spark.sql(\"SELECT DISTINCT ORIGIN AS AIRPORT FROM flights LIMIT 100\")\n",
    "destinationsDistinct = spark.sql(\"SELECT DISTINCT DEST AS AIRPORT FROM flights LIMIT 100\")\n",
    "flightsDistinct = spark.sql(\"SELECT DISTINCT (ORIGIN, DEST) AS AIRPORT FROM flights LIMIT 100\")\n",
    "airportsDistinct = originsDistinct.union(destinationsDistinct).dropDuplicates()\n",
    "airportsDistinct.show()"
   ]
  },
  {
   "cell_type": "code",
   "execution_count": 367,
   "metadata": {},
   "outputs": [
    {
     "name": "stdout",
     "output_type": "stream",
     "text": [
      "+----------+\n",
      "|   AIRPORT|\n",
      "+----------+\n",
      "|{MCI, IAH}|\n",
      "|{ROC, CLE}|\n",
      "|{SNA, PHX}|\n",
      "|{SPI, ORD}|\n",
      "|{ATL, GSP}|\n",
      "|{BQN, MCO}|\n",
      "|{EWR, STT}|\n",
      "|{FSD, ATL}|\n",
      "|{MLI, MCO}|\n",
      "|{PHL, MCO}|\n",
      "|{LAX, OXR}|\n",
      "|{ORD, PDX}|\n",
      "|{PBI, DCA}|\n",
      "|{LAS, LIT}|\n",
      "|{SMF, BUR}|\n",
      "|{CLE, SJU}|\n",
      "|{AMA, MEM}|\n",
      "|{DSM, MCO}|\n",
      "|{TYS, MIA}|\n",
      "|{MCI, MKE}|\n",
      "+----------+\n",
      "only showing top 20 rows\n",
      "\n"
     ]
    }
   ],
   "source": [
    "flightsDistinct.show()"
   ]
  },
  {
   "cell_type": "code",
   "execution_count": 402,
   "metadata": {},
   "outputs": [
    {
     "ename": "Py4JJavaError",
     "evalue": "An error occurred while calling o15486.loadClass.\n: java.lang.ClassNotFoundException: org.graphframes.GraphFramePythonAPI\n\tat java.base/java.net.URLClassLoader.findClass(URLClassLoader.java:471)\n\tat java.base/java.lang.ClassLoader.loadClass(ClassLoader.java:588)\n\tat java.base/java.lang.ClassLoader.loadClass(ClassLoader.java:521)\n\tat java.base/jdk.internal.reflect.NativeMethodAccessorImpl.invoke0(Native Method)\n\tat java.base/jdk.internal.reflect.NativeMethodAccessorImpl.invoke(NativeMethodAccessorImpl.java:62)\n\tat java.base/jdk.internal.reflect.DelegatingMethodAccessorImpl.invoke(DelegatingMethodAccessorImpl.java:43)\n\tat java.base/java.lang.reflect.Method.invoke(Method.java:566)\n\tat py4j.reflection.MethodInvoker.invoke(MethodInvoker.java:244)\n\tat py4j.reflection.ReflectionEngine.invoke(ReflectionEngine.java:357)\n\tat py4j.Gateway.invoke(Gateway.java:282)\n\tat py4j.commands.AbstractCommand.invokeMethod(AbstractCommand.java:132)\n\tat py4j.commands.CallCommand.execute(CallCommand.java:79)\n\tat py4j.GatewayConnection.run(GatewayConnection.java:238)\n\tat java.base/java.lang.Thread.run(Thread.java:834)\n",
     "output_type": "error",
     "traceback": [
      "\u001b[0;31m---------------------------------------------------------------------------\u001b[0m",
      "\u001b[0;31mPy4JJavaError\u001b[0m                             Traceback (most recent call last)",
      "\u001b[0;32m<ipython-input-402-ad15600815a6>\u001b[0m in \u001b[0;36m<module>\u001b[0;34m\u001b[0m\n\u001b[0;32m----> 1\u001b[0;31m \u001b[0mg\u001b[0m \u001b[0;34m=\u001b[0m \u001b[0mGraphFrame\u001b[0m\u001b[0;34m(\u001b[0m\u001b[0mairportsDistinct\u001b[0m\u001b[0;34m,\u001b[0m \u001b[0mflightsDistinct\u001b[0m\u001b[0;34m)\u001b[0m\u001b[0;34m\u001b[0m\u001b[0;34m\u001b[0m\u001b[0m\n\u001b[0m",
      "\u001b[0;32m/private/var/folders/h7/p7nnnzp11nqcz3zl14zgw1dr0000gn/T/spark-35aeed42-1056-4696-aaf7-bbb1aa9337d5/userFiles-97eb415e-c924-4468-bd02-5d2e624dc737/graphframes-0.8.2-spark3.0-s_2.12.jar/graphframes/graphframe.py\u001b[0m in \u001b[0;36m__init__\u001b[0;34m(self, v, e)\u001b[0m\n\u001b[1;32m     66\u001b[0m         \u001b[0mself\u001b[0m\u001b[0;34m.\u001b[0m\u001b[0m_sqlContext\u001b[0m \u001b[0;34m=\u001b[0m \u001b[0mv\u001b[0m\u001b[0;34m.\u001b[0m\u001b[0msql_ctx\u001b[0m\u001b[0;34m\u001b[0m\u001b[0;34m\u001b[0m\u001b[0m\n\u001b[1;32m     67\u001b[0m         \u001b[0mself\u001b[0m\u001b[0;34m.\u001b[0m\u001b[0m_sc\u001b[0m \u001b[0;34m=\u001b[0m \u001b[0mself\u001b[0m\u001b[0;34m.\u001b[0m\u001b[0m_sqlContext\u001b[0m\u001b[0;34m.\u001b[0m\u001b[0m_sc\u001b[0m\u001b[0;34m\u001b[0m\u001b[0;34m\u001b[0m\u001b[0m\n\u001b[0;32m---> 68\u001b[0;31m         \u001b[0mself\u001b[0m\u001b[0;34m.\u001b[0m\u001b[0m_jvm_gf_api\u001b[0m \u001b[0;34m=\u001b[0m \u001b[0m_java_api\u001b[0m\u001b[0;34m(\u001b[0m\u001b[0mself\u001b[0m\u001b[0;34m.\u001b[0m\u001b[0m_sc\u001b[0m\u001b[0;34m)\u001b[0m\u001b[0;34m\u001b[0m\u001b[0;34m\u001b[0m\u001b[0m\n\u001b[0m\u001b[1;32m     69\u001b[0m \u001b[0;34m\u001b[0m\u001b[0m\n\u001b[1;32m     70\u001b[0m         \u001b[0mself\u001b[0m\u001b[0;34m.\u001b[0m\u001b[0mID\u001b[0m \u001b[0;34m=\u001b[0m \u001b[0mself\u001b[0m\u001b[0;34m.\u001b[0m\u001b[0m_jvm_gf_api\u001b[0m\u001b[0;34m.\u001b[0m\u001b[0mID\u001b[0m\u001b[0;34m(\u001b[0m\u001b[0;34m)\u001b[0m\u001b[0;34m\u001b[0m\u001b[0;34m\u001b[0m\u001b[0m\n",
      "\u001b[0;32m/private/var/folders/h7/p7nnnzp11nqcz3zl14zgw1dr0000gn/T/spark-35aeed42-1056-4696-aaf7-bbb1aa9337d5/userFiles-97eb415e-c924-4468-bd02-5d2e624dc737/graphframes-0.8.2-spark3.0-s_2.12.jar/graphframes/graphframe.py\u001b[0m in \u001b[0;36m_java_api\u001b[0;34m(jsc)\u001b[0m\n\u001b[1;32m     39\u001b[0m \u001b[0;32mdef\u001b[0m \u001b[0m_java_api\u001b[0m\u001b[0;34m(\u001b[0m\u001b[0mjsc\u001b[0m\u001b[0;34m)\u001b[0m\u001b[0;34m:\u001b[0m\u001b[0;34m\u001b[0m\u001b[0;34m\u001b[0m\u001b[0m\n\u001b[1;32m     40\u001b[0m     \u001b[0mjavaClassName\u001b[0m \u001b[0;34m=\u001b[0m \u001b[0;34m\"org.graphframes.GraphFramePythonAPI\"\u001b[0m\u001b[0;34m\u001b[0m\u001b[0;34m\u001b[0m\u001b[0m\n\u001b[0;32m---> 41\u001b[0;31m     \u001b[0;32mreturn\u001b[0m \u001b[0mjsc\u001b[0m\u001b[0;34m.\u001b[0m\u001b[0m_jvm\u001b[0m\u001b[0;34m.\u001b[0m\u001b[0mThread\u001b[0m\u001b[0;34m.\u001b[0m\u001b[0mcurrentThread\u001b[0m\u001b[0;34m(\u001b[0m\u001b[0;34m)\u001b[0m\u001b[0;34m.\u001b[0m\u001b[0mgetContextClassLoader\u001b[0m\u001b[0;34m(\u001b[0m\u001b[0;34m)\u001b[0m\u001b[0;34m.\u001b[0m\u001b[0mloadClass\u001b[0m\u001b[0;34m(\u001b[0m\u001b[0mjavaClassName\u001b[0m\u001b[0;34m)\u001b[0m\u001b[0;31m \u001b[0m\u001b[0;31m\\\u001b[0m\u001b[0;34m\u001b[0m\u001b[0;34m\u001b[0m\u001b[0m\n\u001b[0m\u001b[1;32m     42\u001b[0m             \u001b[0;34m.\u001b[0m\u001b[0mnewInstance\u001b[0m\u001b[0;34m(\u001b[0m\u001b[0;34m)\u001b[0m\u001b[0;34m\u001b[0m\u001b[0;34m\u001b[0m\u001b[0m\n\u001b[1;32m     43\u001b[0m \u001b[0;34m\u001b[0m\u001b[0m\n",
      "\u001b[0;32m/opt/anaconda3/lib/python3.7/site-packages/py4j/java_gateway.py\u001b[0m in \u001b[0;36m__call__\u001b[0;34m(self, *args)\u001b[0m\n\u001b[1;32m   1303\u001b[0m         \u001b[0manswer\u001b[0m \u001b[0;34m=\u001b[0m \u001b[0mself\u001b[0m\u001b[0;34m.\u001b[0m\u001b[0mgateway_client\u001b[0m\u001b[0;34m.\u001b[0m\u001b[0msend_command\u001b[0m\u001b[0;34m(\u001b[0m\u001b[0mcommand\u001b[0m\u001b[0;34m)\u001b[0m\u001b[0;34m\u001b[0m\u001b[0;34m\u001b[0m\u001b[0m\n\u001b[1;32m   1304\u001b[0m         return_value = get_return_value(\n\u001b[0;32m-> 1305\u001b[0;31m             answer, self.gateway_client, self.target_id, self.name)\n\u001b[0m\u001b[1;32m   1306\u001b[0m \u001b[0;34m\u001b[0m\u001b[0m\n\u001b[1;32m   1307\u001b[0m         \u001b[0;32mfor\u001b[0m \u001b[0mtemp_arg\u001b[0m \u001b[0;32min\u001b[0m \u001b[0mtemp_args\u001b[0m\u001b[0;34m:\u001b[0m\u001b[0;34m\u001b[0m\u001b[0;34m\u001b[0m\u001b[0m\n",
      "\u001b[0;32m/opt/anaconda3/lib/python3.7/site-packages/pyspark/sql/utils.py\u001b[0m in \u001b[0;36mdeco\u001b[0;34m(*a, **kw)\u001b[0m\n\u001b[1;32m    109\u001b[0m     \u001b[0;32mdef\u001b[0m \u001b[0mdeco\u001b[0m\u001b[0;34m(\u001b[0m\u001b[0;34m*\u001b[0m\u001b[0ma\u001b[0m\u001b[0;34m,\u001b[0m \u001b[0;34m**\u001b[0m\u001b[0mkw\u001b[0m\u001b[0;34m)\u001b[0m\u001b[0;34m:\u001b[0m\u001b[0;34m\u001b[0m\u001b[0;34m\u001b[0m\u001b[0m\n\u001b[1;32m    110\u001b[0m         \u001b[0;32mtry\u001b[0m\u001b[0;34m:\u001b[0m\u001b[0;34m\u001b[0m\u001b[0;34m\u001b[0m\u001b[0m\n\u001b[0;32m--> 111\u001b[0;31m             \u001b[0;32mreturn\u001b[0m \u001b[0mf\u001b[0m\u001b[0;34m(\u001b[0m\u001b[0;34m*\u001b[0m\u001b[0ma\u001b[0m\u001b[0;34m,\u001b[0m \u001b[0;34m**\u001b[0m\u001b[0mkw\u001b[0m\u001b[0;34m)\u001b[0m\u001b[0;34m\u001b[0m\u001b[0;34m\u001b[0m\u001b[0m\n\u001b[0m\u001b[1;32m    112\u001b[0m         \u001b[0;32mexcept\u001b[0m \u001b[0mpy4j\u001b[0m\u001b[0;34m.\u001b[0m\u001b[0mprotocol\u001b[0m\u001b[0;34m.\u001b[0m\u001b[0mPy4JJavaError\u001b[0m \u001b[0;32mas\u001b[0m \u001b[0me\u001b[0m\u001b[0;34m:\u001b[0m\u001b[0;34m\u001b[0m\u001b[0;34m\u001b[0m\u001b[0m\n\u001b[1;32m    113\u001b[0m             \u001b[0mconverted\u001b[0m \u001b[0;34m=\u001b[0m \u001b[0mconvert_exception\u001b[0m\u001b[0;34m(\u001b[0m\u001b[0me\u001b[0m\u001b[0;34m.\u001b[0m\u001b[0mjava_exception\u001b[0m\u001b[0;34m)\u001b[0m\u001b[0;34m\u001b[0m\u001b[0;34m\u001b[0m\u001b[0m\n",
      "\u001b[0;32m/opt/anaconda3/lib/python3.7/site-packages/py4j/protocol.py\u001b[0m in \u001b[0;36mget_return_value\u001b[0;34m(answer, gateway_client, target_id, name)\u001b[0m\n\u001b[1;32m    326\u001b[0m                 raise Py4JJavaError(\n\u001b[1;32m    327\u001b[0m                     \u001b[0;34m\"An error occurred while calling {0}{1}{2}.\\n\"\u001b[0m\u001b[0;34m.\u001b[0m\u001b[0;34m\u001b[0m\u001b[0;34m\u001b[0m\u001b[0m\n\u001b[0;32m--> 328\u001b[0;31m                     format(target_id, \".\", name), value)\n\u001b[0m\u001b[1;32m    329\u001b[0m             \u001b[0;32melse\u001b[0m\u001b[0;34m:\u001b[0m\u001b[0;34m\u001b[0m\u001b[0;34m\u001b[0m\u001b[0m\n\u001b[1;32m    330\u001b[0m                 raise Py4JError(\n",
      "\u001b[0;31mPy4JJavaError\u001b[0m: An error occurred while calling o15486.loadClass.\n: java.lang.ClassNotFoundException: org.graphframes.GraphFramePythonAPI\n\tat java.base/java.net.URLClassLoader.findClass(URLClassLoader.java:471)\n\tat java.base/java.lang.ClassLoader.loadClass(ClassLoader.java:588)\n\tat java.base/java.lang.ClassLoader.loadClass(ClassLoader.java:521)\n\tat java.base/jdk.internal.reflect.NativeMethodAccessorImpl.invoke0(Native Method)\n\tat java.base/jdk.internal.reflect.NativeMethodAccessorImpl.invoke(NativeMethodAccessorImpl.java:62)\n\tat java.base/jdk.internal.reflect.DelegatingMethodAccessorImpl.invoke(DelegatingMethodAccessorImpl.java:43)\n\tat java.base/java.lang.reflect.Method.invoke(Method.java:566)\n\tat py4j.reflection.MethodInvoker.invoke(MethodInvoker.java:244)\n\tat py4j.reflection.ReflectionEngine.invoke(ReflectionEngine.java:357)\n\tat py4j.Gateway.invoke(Gateway.java:282)\n\tat py4j.commands.AbstractCommand.invokeMethod(AbstractCommand.java:132)\n\tat py4j.commands.CallCommand.execute(CallCommand.java:79)\n\tat py4j.GatewayConnection.run(GatewayConnection.java:238)\n\tat java.base/java.lang.Thread.run(Thread.java:834)\n"
     ]
    }
   ],
   "source": [
    "g = GraphFrame(airportsDistinct, flightsDistinct)"
   ]
  },
  {
   "cell_type": "markdown",
   "id": "fc569949",
   "metadata": {
    "id": "fc569949"
   },
   "source": [
    "#### Discussion\n",
    "\n",
    "**Explain your code and discuss results**"
   ]
  }
 ],
 "metadata": {
  "accelerator": "GPU",
  "colab": {
   "name": "Group_project.ipynb",
   "provenance": []
  },
  "kernelspec": {
   "display_name": "Python 3",
   "language": "python",
   "name": "python3"
  },
  "language_info": {
   "codemirror_mode": {
    "name": "ipython",
    "version": 3
   },
   "file_extension": ".py",
   "mimetype": "text/x-python",
   "name": "python",
   "nbconvert_exporter": "python",
   "pygments_lexer": "ipython3",
   "version": "3.7.6"
  }
 },
 "nbformat": 4,
 "nbformat_minor": 5
}
